{
 "cells": [
  {
   "cell_type": "markdown",
   "id": "0cf859d8",
   "metadata": {},
   "source": [
    "## 1. Read the created CommonRoad scenario"
   ]
  },
  {
   "cell_type": "code",
   "execution_count": null,
   "id": "8f351557",
   "metadata": {},
   "outputs": [],
   "source": [
    "%matplotlib inline\n",
    "import os\n",
    "import matplotlib.pyplot as plt\n",
    "from commonroad.common.file_reader import CommonRoadFileReader\n",
    "from commonroad.visualization.mp_renderer import MPRenderer\n",
    "\n",
    "# load the CommonRoad scenario that has been created in the CommonRoad tutorial\n",
    "file_path = os.path.join(os.getcwd(), 'ZAM_Tutorial-1_2_T-1.xml')\n",
    "\n",
    "scenario, planning_problem_set = CommonRoadFileReader(file_path).open()\n",
    "\n",
    "# plot the scenario for each time step\n",
    "for i in range(0, 40):\n",
    "    plt.figure(figsize=(25, 10))\n",
    "    rnd = MPRenderer()\n",
    "    scenario.draw(rnd, draw_params={'time_begin': i})\n",
    "    planning_problem_set.draw(rnd)\n",
    "    rnd.render()"
   ]
  }
 ],
 "metadata": {
  "kernelspec": {
   "display_name": "Python 3 (ipykernel)",
   "language": "python",
   "name": "python3"
  },
  "language_info": {
   "codemirror_mode": {
    "name": "ipython",
    "version": 3
   },
   "file_extension": ".py",
   "mimetype": "text/x-python",
   "name": "python",
   "nbconvert_exporter": "python",
   "pygments_lexer": "ipython3",
   "version": "3.7.13"
  }
 },
 "nbformat": 4,
 "nbformat_minor": 5
}
