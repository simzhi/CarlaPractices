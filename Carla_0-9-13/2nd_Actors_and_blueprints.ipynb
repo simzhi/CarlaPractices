{
 "cells": [
  {
   "cell_type": "code",
   "execution_count": 1,
   "id": "99f5cdd4",
   "metadata": {},
   "outputs": [
    {
     "name": "stdout",
     "output_type": "stream",
     "text": [
      "client <carla.libcarla.Client object at 0x7f9cfc762c30>\n",
      "0.9.13\n",
      "0.9.13\n",
      "World(id=8293213096651135195)\n",
      "['/Game/Carla/Maps/Town05_Opt', '/Game/Carla/Maps/Town10HD', '/Game/Carla/Maps/Town01_Opt', '/Game/Carla/Maps/Town07_Opt', '/Game/Carla/Maps/Town07', '/Game/Carla/Maps/Town02', '/Game/Carla/Maps/Town03', '/Game/Carla/Maps/Town06_Opt', '/Game/Carla/Maps/Town04_Opt', '/Game/Carla/Maps/Town10HD_Opt', '/Game/Carla/Maps/Town05', '/Game/Carla/Maps/Town04', '/Game/Carla/Maps/Town03_Opt', '/Game/Carla/Maps/Town06', '/Game/Carla/Maps/Town02_Opt', '/Game/Carla/Maps/Town01', '/Game/Carla/Maps/Town11/Town11']\n"
     ]
    }
   ],
   "source": [
    "import carla\n",
    "import random\n",
    "client = carla.Client('localhost', 2000)\n",
    "print(\"client\", client)\n",
    "client.set_timeout(10.0)\n",
    "print(client.get_client_version())\n",
    "print(client.get_server_version())\n",
    "world = client.get_world()\n",
    "print(world)\n",
    "print(client.get_available_maps())\n",
    "world = client.load_world('Town03_Opt')"
   ]
  },
  {
   "cell_type": "code",
   "execution_count": 2,
   "id": "c70e02d6",
   "metadata": {},
   "outputs": [
    {
     "name": "stdout",
     "output_type": "stream",
     "text": [
      "[ActorBlueprint(id=static.prop.mesh,tags=[mesh, prop, static]), ActorBlueprint(id=static.prop.trashcan01,tags=[trashcan01, prop, static]), ActorBlueprint(id=static.prop.trashbag,tags=[trashbag, prop, static]), ActorBlueprint(id=static.prop.trafficwarning,tags=[trafficwarning, prop, static]), ActorBlueprint(id=static.prop.trafficcone02,tags=[trafficcone02, prop, static]), ActorBlueprint(id=static.prop.trafficcone01,tags=[trafficcone01, prop, static]), ActorBlueprint(id=static.prop.table,tags=[table, prop, static]), ActorBlueprint(id=static.prop.streetbarrier,tags=[streetbarrier, prop, static]), ActorBlueprint(id=static.prop.shoppingtrolley,tags=[shoppingtrolley, prop, static]), ActorBlueprint(id=static.prop.shoppingbag,tags=[shoppingbag, prop, static]), ActorBlueprint(id=static.prop.shoppingcart,tags=[shoppingcart, prop, static]), ActorBlueprint(id=static.prop.plasticchair,tags=[plasticchair, prop, static]), ActorBlueprint(id=static.prop.plantpot08,tags=[plantpot08, prop, static]), ActorBlueprint(id=static.prop.platformgarbage01,tags=[platformgarbage01, prop, static]), ActorBlueprint(id=static.prop.plasticbag,tags=[plasticbag, prop, static]), ActorBlueprint(id=static.prop.plantpot07,tags=[plantpot07, prop, static]), ActorBlueprint(id=static.prop.plantpot05,tags=[plantpot05, prop, static]), ActorBlueprint(id=static.prop.plantpot03,tags=[plantpot03, prop, static]), ActorBlueprint(id=static.prop.plantpot02,tags=[plantpot02, prop, static]), ActorBlueprint(id=static.prop.plantpot01,tags=[plantpot01, prop, static]), ActorBlueprint(id=static.prop.fountain,tags=[fountain, prop, static]), ActorBlueprint(id=static.prop.motorhelmet,tags=[prop, motorhelmet, static]), ActorBlueprint(id=static.prop.maptable,tags=[maptable, prop, static]), ActorBlueprint(id=static.prop.kiosk_01,tags=[kiosk_01, prop, static]), ActorBlueprint(id=static.prop.ironplank,tags=[ironplank, prop, static]), ActorBlueprint(id=static.prop.gnome,tags=[prop, gnome, static]), ActorBlueprint(id=static.prop.gardenlamp,tags=[gardenlamp, prop, static]), ActorBlueprint(id=static.prop.travelcase,tags=[travelcase, prop, static]), ActorBlueprint(id=static.prop.garbage06,tags=[garbage06, prop, static]), ActorBlueprint(id=static.prop.swing,tags=[swing, prop, static]), ActorBlueprint(id=static.prop.garbage04,tags=[garbage04, prop, static]), ActorBlueprint(id=static.prop.garbage01,tags=[garbage01, prop, static]), ActorBlueprint(id=static.prop.dirtdebris03,tags=[dirtdebris03, prop, static]), ActorBlueprint(id=static.prop.dirtdebris01,tags=[dirtdebris01, prop, static]), ActorBlueprint(id=static.prop.creasedbox02,tags=[creasedbox02, prop, static]), ActorBlueprint(id=static.prop.purse,tags=[prop, purse, static]), ActorBlueprint(id=static.prop.guitarcase,tags=[guitarcase, prop, static]), ActorBlueprint(id=static.prop.constructioncone,tags=[constructioncone, prop, static]), ActorBlueprint(id=static.prop.streetfountain,tags=[streetfountain, prop, static]), ActorBlueprint(id=static.prop.streetsign,tags=[streetsign, prop, static]), ActorBlueprint(id=static.prop.container,tags=[container, prop, static]), ActorBlueprint(id=static.prop.clothcontainer,tags=[clothcontainer, prop, static]), ActorBlueprint(id=static.prop.chainbarrierend,tags=[chainbarrierend, prop, static]), ActorBlueprint(id=static.prop.busstop,tags=[busstop, prop, static]), ActorBlueprint(id=static.prop.brokentile02,tags=[brokentile02, prop, static]), ActorBlueprint(id=static.prop.box03,tags=[box03, prop, static]), ActorBlueprint(id=static.prop.box02,tags=[box02, prop, static]), ActorBlueprint(id=static.prop.bike helmet,tags=[bike helmet, prop, static]), ActorBlueprint(id=static.prop.bench03,tags=[bench03, prop, static]), ActorBlueprint(id=static.prop.bench02,tags=[bench02, prop, static]), ActorBlueprint(id=controller.ai.walker,tags=[walker, ai, controller]), ActorBlueprint(id=static.prop.garbage02,tags=[garbage02, prop, static]), ActorBlueprint(id=static.prop.barrel,tags=[barrel, prop, static]), ActorBlueprint(id=walker.pedestrian.0049,tags=[0049, pedestrian, walker]), ActorBlueprint(id=walker.pedestrian.0046,tags=[0046, pedestrian, walker]), ActorBlueprint(id=static.prop.advertisement,tags=[advertisement, prop, static]), ActorBlueprint(id=walker.pedestrian.0045,tags=[0045, pedestrian, walker]), ActorBlueprint(id=walker.pedestrian.0044,tags=[0044, pedestrian, walker]), ActorBlueprint(id=static.prop.creasedbox03,tags=[creasedbox03, prop, static]), ActorBlueprint(id=walker.pedestrian.0043,tags=[0043, pedestrian, walker]), ActorBlueprint(id=walker.pedestrian.0042,tags=[0042, pedestrian, walker]), ActorBlueprint(id=walker.pedestrian.0041,tags=[0041, pedestrian, walker]), ActorBlueprint(id=walker.pedestrian.0039,tags=[0039, pedestrian, walker]), ActorBlueprint(id=static.prop.trashcan03,tags=[trashcan03, prop, static]), ActorBlueprint(id=static.prop.brokentile01,tags=[brokentile01, prop, static]), ActorBlueprint(id=walker.pedestrian.0038,tags=[0038, pedestrian, walker]), ActorBlueprint(id=static.prop.garbage05,tags=[garbage05, prop, static]), ActorBlueprint(id=walker.pedestrian.0037,tags=[0037, pedestrian, walker]), ActorBlueprint(id=walker.pedestrian.0036,tags=[0036, pedestrian, walker]), ActorBlueprint(id=walker.pedestrian.0035,tags=[0035, pedestrian, walker]), ActorBlueprint(id=static.prop.colacan,tags=[colacan, prop, static]), ActorBlueprint(id=walker.pedestrian.0034,tags=[0034, pedestrian, walker]), ActorBlueprint(id=walker.pedestrian.0033,tags=[0033, pedestrian, walker]), ActorBlueprint(id=walker.pedestrian.0028,tags=[pedestrian, 0028, walker]), ActorBlueprint(id=static.prop.clothesline,tags=[clothesline, prop, static]), ActorBlueprint(id=walker.pedestrian.0024,tags=[pedestrian, 0024, walker]), ActorBlueprint(id=static.prop.box01,tags=[box01, prop, static]), ActorBlueprint(id=walker.pedestrian.0022,tags=[0022, pedestrian, walker]), ActorBlueprint(id=static.prop.vendingmachine,tags=[vendingmachine, prop, static]), ActorBlueprint(id=walker.pedestrian.0030,tags=[0030, pedestrian, walker]), ActorBlueprint(id=walker.pedestrian.0021,tags=[0021, pedestrian, walker]), ActorBlueprint(id=walker.pedestrian.0020,tags=[0020, pedestrian, walker]), ActorBlueprint(id=walker.pedestrian.0019,tags=[0019, pedestrian, walker]), ActorBlueprint(id=walker.pedestrian.0016,tags=[0016, pedestrian, walker]), ActorBlueprint(id=static.prop.doghouse,tags=[doghouse, prop, static]), ActorBlueprint(id=walker.pedestrian.0040,tags=[0040, pedestrian, walker]), ActorBlueprint(id=walker.pedestrian.0014,tags=[0014, pedestrian, walker]), ActorBlueprint(id=static.prop.streetsign01,tags=[streetsign01, prop, static]), ActorBlueprint(id=walker.pedestrian.0011,tags=[0011, pedestrian, walker]), ActorBlueprint(id=static.prop.streetsign04,tags=[streetsign04, prop, static]), ActorBlueprint(id=static.prop.plastictable,tags=[plastictable, prop, static]), ActorBlueprint(id=walker.pedestrian.0031,tags=[0031, pedestrian, walker]), ActorBlueprint(id=walker.pedestrian.0023,tags=[0023, pedestrian, walker]), ActorBlueprint(id=walker.pedestrian.0009,tags=[0009, pedestrian, walker]), ActorBlueprint(id=walker.pedestrian.0047,tags=[pedestrian, 0047, walker]), ActorBlueprint(id=walker.pedestrian.0007,tags=[0007, pedestrian, walker]), ActorBlueprint(id=walker.pedestrian.0006,tags=[pedestrian, 0006, walker]), ActorBlueprint(id=walker.pedestrian.0048,tags=[0048, pedestrian, walker]), ActorBlueprint(id=walker.pedestrian.0005,tags=[0005, pedestrian, walker]), ActorBlueprint(id=walker.pedestrian.0004,tags=[0004, pedestrian, walker]), ActorBlueprint(id=walker.pedestrian.0003,tags=[0003, pedestrian, walker]), ActorBlueprint(id=static.prop.creasedbox01,tags=[prop, creasedbox01, static]), ActorBlueprint(id=walker.pedestrian.0001,tags=[0001, pedestrian, walker]), ActorBlueprint(id=sensor.camera.instance_segmentation,tags=[instance_segmentation, camera, sensor]), ActorBlueprint(id=static.prop.plantpot04,tags=[prop, plantpot04, static]), ActorBlueprint(id=sensor.camera.semantic_segmentation,tags=[semantic_segmentation, camera, sensor]), ActorBlueprint(id=static.prop.bench01,tags=[bench01, prop, static]), ActorBlueprint(id=walker.pedestrian.0032,tags=[0032, pedestrian, walker]), ActorBlueprint(id=walker.pedestrian.0010,tags=[0010, pedestrian, walker]), ActorBlueprint(id=sensor.camera.rgb,tags=[rgb, camera, sensor]), ActorBlueprint(id=static.prop.wateringcan,tags=[wateringcan, prop, static]), ActorBlueprint(id=sensor.other.rss,tags=[rss, other, sensor]), ActorBlueprint(id=static.prop.pergola,tags=[pergola, prop, static]), ActorBlueprint(id=sensor.lidar.ray_cast_semantic,tags=[ray_cast_semantic, lidar, sensor]), ActorBlueprint(id=sensor.camera.optical_flow,tags=[optical_flow, camera, sensor]), ActorBlueprint(id=static.prop.briefcase,tags=[briefcase, prop, static]), ActorBlueprint(id=walker.pedestrian.0018,tags=[0018, pedestrian, walker]), ActorBlueprint(id=sensor.other.radar,tags=[radar, other, sensor]), ActorBlueprint(id=sensor.other.obstacle,tags=[obstacle, other, sensor]), ActorBlueprint(id=static.prop.slide,tags=[slide, prop, static]), ActorBlueprint(id=static.prop.brokentile04,tags=[brokentile04, prop, static]), ActorBlueprint(id=sensor.other.lane_invasion,tags=[lane_invasion, other, sensor]), ActorBlueprint(id=static.prop.trashcan04,tags=[trashcan04, prop, static]), ActorBlueprint(id=static.prop.trashcan02,tags=[trashcan02, prop, static]), ActorBlueprint(id=sensor.other.imu,tags=[other, imu, sensor]), ActorBlueprint(id=static.prop.plantpot06,tags=[prop, plantpot06, static]), ActorBlueprint(id=static.prop.glasscontainer,tags=[glasscontainer, prop, static]), ActorBlueprint(id=static.prop.chainbarrier,tags=[prop, chainbarrier, static]), ActorBlueprint(id=sensor.camera.dvs,tags=[dvs, camera, sensor]), ActorBlueprint(id=static.prop.trampoline,tags=[trampoline, prop, static]), ActorBlueprint(id=sensor.camera.depth,tags=[depth, camera, sensor]), ActorBlueprint(id=static.prop.trashcan05,tags=[trashcan05, prop, static]), ActorBlueprint(id=sensor.other.collision,tags=[collision, other, sensor]), ActorBlueprint(id=vehicle.volkswagen.t2_2021,tags=[t2_2021, volkswagen, vehicle]), ActorBlueprint(id=walker.pedestrian.0008,tags=[0008, pedestrian, walker]), ActorBlueprint(id=vehicle.ford.crown,tags=[crown, ford, vehicle]), ActorBlueprint(id=static.prop.calibrator,tags=[calibrator, prop, static]), ActorBlueprint(id=static.prop.mobile,tags=[prop, mobile, static]), ActorBlueprint(id=vehicle.mercedes.sprinter,tags=[sprinter, mercedes, vehicle]), ActorBlueprint(id=vehicle.nissan.patrol_2021,tags=[nissan, patrol_2021, vehicle]), ActorBlueprint(id=vehicle.mini.cooper_s_2021,tags=[mini, cooper_s_2021, vehicle]), ActorBlueprint(id=vehicle.vespa.zx125,tags=[zx125, vespa, vehicle]), ActorBlueprint(id=vehicle.carlamotors.firetruck,tags=[carlamotors, firetruck, vehicle]), ActorBlueprint(id=walker.pedestrian.0013,tags=[0013, pedestrian, walker]), ActorBlueprint(id=vehicle.ford.ambulance,tags=[ambulance, ford, vehicle]), ActorBlueprint(id=walker.pedestrian.0015,tags=[0015, pedestrian, walker]), ActorBlueprint(id=vehicle.dodge.charger_police_2020,tags=[charger_police_2020, dodge, vehicle]), ActorBlueprint(id=walker.pedestrian.0029,tags=[0029, pedestrian, walker]), ActorBlueprint(id=vehicle.dodge.charger_2020,tags=[charger_2020, dodge, vehicle]), ActorBlueprint(id=vehicle.mercedes.coupe_2020,tags=[coupe_2020, mercedes, vehicle]), ActorBlueprint(id=vehicle.lincoln.mkz_2020,tags=[mkz_2020, lincoln, vehicle]), ActorBlueprint(id=static.prop.garbage03,tags=[garbage03, prop, static]), ActorBlueprint(id=static.prop.barbeque,tags=[barbeque, prop, static]), ActorBlueprint(id=static.prop.atm,tags=[prop, atm, static]), ActorBlueprint(id=walker.pedestrian.0026,tags=[pedestrian, 0026, walker]), ActorBlueprint(id=vehicle.ford.mustang,tags=[mustang, ford, vehicle]), ActorBlueprint(id=vehicle.lincoln.mkz_2017,tags=[mkz_2017, lincoln, vehicle]), ActorBlueprint(id=vehicle.volkswagen.t2,tags=[volkswagen, t2, vehicle]), ActorBlueprint(id=vehicle.tesla.model3,tags=[tesla, model3, vehicle]), ActorBlueprint(id=static.trigger.friction,tags=[friction, trigger, static]), ActorBlueprint(id=sensor.lidar.ray_cast,tags=[ray_cast, lidar, sensor]), ActorBlueprint(id=vehicle.tesla.cybertruck,tags=[cybertruck, tesla, vehicle]), ActorBlueprint(id=vehicle.audi.etron,tags=[etron, audi, vehicle]), ActorBlueprint(id=static.prop.swingcouch,tags=[swingcouch, prop, static]), ActorBlueprint(id=walker.pedestrian.0002,tags=[0002, pedestrian, walker]), ActorBlueprint(id=vehicle.diamondback.century,tags=[century, diamondback, vehicle]), ActorBlueprint(id=sensor.other.gnss,tags=[gnss, other, sensor]), ActorBlueprint(id=vehicle.gazelle.omafiets,tags=[omafiets, gazelle, vehicle]), ActorBlueprint(id=vehicle.bh.crossbike,tags=[crossbike, bh, vehicle]), ActorBlueprint(id=static.prop.brokentile03,tags=[brokentile03, prop, static]), ActorBlueprint(id=vehicle.kawasaki.ninja,tags=[ninja, kawasaki, vehicle]), ActorBlueprint(id=vehicle.yamaha.yzf,tags=[yzf, yamaha, vehicle]), ActorBlueprint(id=vehicle.harley-davidson.low_rider,tags=[low_rider, harley-davidson, vehicle]), ActorBlueprint(id=vehicle.toyota.prius,tags=[prius, toyota, vehicle]), ActorBlueprint(id=vehicle.seat.leon,tags=[leon, seat, vehicle]), ActorBlueprint(id=vehicle.nissan.patrol,tags=[patrol, nissan, vehicle]), ActorBlueprint(id=vehicle.nissan.micra,tags=[micra, nissan, vehicle]), ActorBlueprint(id=vehicle.mini.cooper_s,tags=[cooper_s, mini, vehicle]), ActorBlueprint(id=static.prop.dirtdebris02,tags=[dirtdebris02, prop, static]), ActorBlueprint(id=vehicle.mercedes.coupe,tags=[coupe, mercedes, vehicle]), ActorBlueprint(id=walker.pedestrian.0027,tags=[0027, pedestrian, walker]), ActorBlueprint(id=vehicle.jeep.wrangler_rubicon,tags=[wrangler_rubicon, jeep, vehicle]), ActorBlueprint(id=static.prop.bin,tags=[bin, prop, static]), ActorBlueprint(id=vehicle.dodge.charger_police,tags=[charger_police, dodge, vehicle]), ActorBlueprint(id=vehicle.citroen.c3,tags=[c3, citroen, vehicle]), ActorBlueprint(id=vehicle.chevrolet.impala,tags=[impala, chevrolet, vehicle]), ActorBlueprint(id=walker.pedestrian.0025,tags=[0025, pedestrian, walker]), ActorBlueprint(id=vehicle.carlamotors.carlacola,tags=[carlacola, carlamotors, vehicle]), ActorBlueprint(id=static.prop.mailbox,tags=[mailbox, prop, static]), ActorBlueprint(id=vehicle.micro.microlino,tags=[microlino, micro, vehicle]), ActorBlueprint(id=walker.pedestrian.0017,tags=[0017, pedestrian, walker]), ActorBlueprint(id=walker.pedestrian.0012,tags=[0012, pedestrian, walker]), ActorBlueprint(id=vehicle.bmw.grandtourer,tags=[grandtourer, bmw, vehicle]), ActorBlueprint(id=vehicle.audi.tt,tags=[tt, audi, vehicle]), ActorBlueprint(id=vehicle.audi.a2,tags=[a2, audi, vehicle])]\n"
     ]
    }
   ],
   "source": [
    "blueprint_library = world.get_blueprint_library()\n",
    "print(blueprint_library)"
   ]
  },
  {
   "cell_type": "code",
   "execution_count": 69,
   "id": "e68249ae",
   "metadata": {},
   "outputs": [
    {
     "name": "stdout",
     "output_type": "stream",
     "text": [
      "ActorBlueprint(id=sensor.other.collision,tags=[collision, other, sensor])\n"
     ]
    }
   ],
   "source": [
    "# Find a specific blueprint.\n",
    "collision_sensor_bp = blueprint_library.find('sensor.other.collision')\n",
    "print(collision_sensor_bp)"
   ]
  },
  {
   "cell_type": "code",
   "execution_count": 70,
   "id": "05ea5170",
   "metadata": {},
   "outputs": [
    {
     "name": "stdout",
     "output_type": "stream",
     "text": [
      "ActorBlueprint(id=vehicle.mercedes.coupe_2020,tags=[coupe_2020, mercedes, vehicle])\n",
      "ActorBlueprint(id=vehicle.bh.crossbike,tags=[crossbike, bh, vehicle])\n",
      "ActorBlueprint(id=walker.pedestrian.0027,tags=[0027, pedestrian, walker])\n"
     ]
    }
   ],
   "source": [
    "# Choose a vehicle blueprint at random.\n",
    "vehicle_bp = random.choice(blueprint_library.filter('vehicle.*.*'))\n",
    "print(vehicle_bp)\n",
    "vehicle = random.choice(blueprint_library.filter('vehicle.bh.*'))\n",
    "print(vehicle)\n",
    "walker027 = blueprint_library.find('walker.pedestrian.0027')\n",
    "print(walker027)"
   ]
  },
  {
   "cell_type": "code",
   "execution_count": 71,
   "id": "1766c8b2",
   "metadata": {},
   "outputs": [
    {
     "ename": "RuntimeError",
     "evalue": "number_of_wheels: bad attribute cast: cannot convert to Float",
     "output_type": "error",
     "traceback": [
      "\u001B[0;31m---------------------------------------------------------------------------\u001B[0m",
      "\u001B[0;31mRuntimeError\u001B[0m                              Traceback (most recent call last)",
      "\u001B[0;32m/tmp/ipykernel_80107/1818102135.py\u001B[0m in \u001B[0;36m<module>\u001B[0;34m\u001B[0m\n\u001B[0;32m----> 1\u001B[0;31m \u001B[0mprint\u001B[0m\u001B[0;34m(\u001B[0m\u001B[0mvehicle\u001B[0m\u001B[0;34m.\u001B[0m\u001B[0mget_attribute\u001B[0m\u001B[0;34m(\u001B[0m\u001B[0;34m'number_of_wheels'\u001B[0m\u001B[0;34m)\u001B[0m \u001B[0;34m==\u001B[0m \u001B[0;36m2\u001B[0m\u001B[0;34m)\u001B[0m\u001B[0;34m\u001B[0m\u001B[0;34m\u001B[0m\u001B[0m\n\u001B[0m\u001B[1;32m      2\u001B[0m \u001B[0mis_bike\u001B[0m \u001B[0;34m=\u001B[0m \u001B[0;34m[\u001B[0m\u001B[0mvehicle\u001B[0m\u001B[0;34m.\u001B[0m\u001B[0mget_attribute\u001B[0m\u001B[0;34m(\u001B[0m\u001B[0;34m'number_of_wheels'\u001B[0m\u001B[0;34m)\u001B[0m \u001B[0;34m==\u001B[0m \u001B[0;36m2\u001B[0m\u001B[0;34m]\u001B[0m\u001B[0;34m\u001B[0m\u001B[0;34m\u001B[0m\u001B[0m\n\u001B[1;32m      3\u001B[0m \u001B[0mprint\u001B[0m\u001B[0;34m(\u001B[0m\u001B[0mis_bike\u001B[0m\u001B[0;34m)\u001B[0m\u001B[0;34m\u001B[0m\u001B[0;34m\u001B[0m\u001B[0m\n\u001B[1;32m      4\u001B[0m \u001B[0;32mif\u001B[0m\u001B[0;34m(\u001B[0m\u001B[0mis_bike\u001B[0m\u001B[0;34m)\u001B[0m\u001B[0;34m:\u001B[0m\u001B[0;34m\u001B[0m\u001B[0;34m\u001B[0m\u001B[0m\n\u001B[1;32m      5\u001B[0m     \u001B[0mvehicle\u001B[0m\u001B[0;34m.\u001B[0m\u001B[0mset_attribute\u001B[0m\u001B[0;34m(\u001B[0m\u001B[0;34m'color'\u001B[0m\u001B[0;34m,\u001B[0m \u001B[0;34m'255,0,0'\u001B[0m\u001B[0;34m)\u001B[0m\u001B[0;34m\u001B[0m\u001B[0;34m\u001B[0m\u001B[0m\n",
      "\u001B[0;31mRuntimeError\u001B[0m: number_of_wheels: bad attribute cast: cannot convert to Float"
     ]
    }
   ],
   "source": [
    "print(vehicle.get_attribute('number_of_wheels') == 2)\n",
    "is_bike = [vehicle.get_attribute('number_of_wheels') == 2]\n",
    "print(is_bike)\n",
    "if(is_bike):\n",
    "    vehicle.set_attribute('color', '255,0,0')"
   ]
  },
  {
   "cell_type": "code",
   "execution_count": 72,
   "id": "11672d9c",
   "metadata": {},
   "outputs": [
    {
     "ename": "NameError",
     "evalue": "name 'Transform' is not defined",
     "output_type": "error",
     "traceback": [
      "\u001B[0;31m---------------------------------------------------------------------------\u001B[0m",
      "\u001B[0;31mNameError\u001B[0m                                 Traceback (most recent call last)",
      "\u001B[0;32m/tmp/ipykernel_80107/3651910113.py\u001B[0m in \u001B[0;36m<module>\u001B[0;34m\u001B[0m\n\u001B[0;32m----> 1\u001B[0;31m \u001B[0mtransform\u001B[0m \u001B[0;34m=\u001B[0m \u001B[0mTransform\u001B[0m\u001B[0;34m(\u001B[0m\u001B[0mLocation\u001B[0m\u001B[0;34m(\u001B[0m\u001B[0mx\u001B[0m\u001B[0;34m=\u001B[0m\u001B[0;36m230\u001B[0m\u001B[0;34m,\u001B[0m \u001B[0my\u001B[0m\u001B[0;34m=\u001B[0m\u001B[0;36m195\u001B[0m\u001B[0;34m,\u001B[0m \u001B[0mz\u001B[0m\u001B[0;34m=\u001B[0m\u001B[0;36m40\u001B[0m\u001B[0;34m)\u001B[0m\u001B[0;34m,\u001B[0m \u001B[0mRotation\u001B[0m\u001B[0;34m(\u001B[0m\u001B[0myaw\u001B[0m\u001B[0;34m=\u001B[0m\u001B[0;36m180\u001B[0m\u001B[0;34m)\u001B[0m\u001B[0;34m)\u001B[0m\u001B[0;34m\u001B[0m\u001B[0;34m\u001B[0m\u001B[0m\n\u001B[0m",
      "\u001B[0;31mNameError\u001B[0m: name 'Transform' is not defined"
     ]
    }
   ],
   "source": [
    "transform = Transform(Location(x=230, y=195, z=40), Rotation(yaw=180))"
   ]
  },
  {
   "cell_type": "code",
   "execution_count": 73,
   "id": "37629b1a",
   "metadata": {},
   "outputs": [
    {
     "ename": "NameError",
     "evalue": "name 'blueprint' is not defined",
     "output_type": "error",
     "traceback": [
      "\u001B[0;31m---------------------------------------------------------------------------\u001B[0m",
      "\u001B[0;31mNameError\u001B[0m                                 Traceback (most recent call last)",
      "\u001B[0;32m/tmp/ipykernel_80107/318770492.py\u001B[0m in \u001B[0;36m<module>\u001B[0;34m\u001B[0m\n\u001B[0;32m----> 1\u001B[0;31m \u001B[0mactor\u001B[0m \u001B[0;34m=\u001B[0m \u001B[0mworld\u001B[0m\u001B[0;34m.\u001B[0m\u001B[0mspawn_actor\u001B[0m\u001B[0;34m(\u001B[0m\u001B[0mblueprint\u001B[0m\u001B[0;34m,\u001B[0m \u001B[0mtransform\u001B[0m\u001B[0;34m)\u001B[0m\u001B[0;34m\u001B[0m\u001B[0;34m\u001B[0m\u001B[0m\n\u001B[0m",
      "\u001B[0;31mNameError\u001B[0m: name 'blueprint' is not defined"
     ]
    }
   ],
   "source": [
    "actor = world.spawn_actor(blueprint, transform)"
   ]
  },
  {
   "cell_type": "markdown",
   "id": "5a45da8c",
   "metadata": {},
   "source": [
    "CARLA uses the Unreal Engine coordinates system. Remember that carla.Rotation constructor is defined as (pitch, yaw, roll), that differs from Unreal Engine Editor (roll, pitch, yaw)."
   ]
  },
  {
   "cell_type": "code",
   "execution_count": 74,
   "id": "25a2ca61",
   "metadata": {},
   "outputs": [
    {
     "name": "stdout",
     "output_type": "stream",
     "text": [
      "[<carla.libcarla.Transform object at 0x7f9aa0169c90>, <carla.libcarla.Transform object at 0x7f9aa0169cf0>, <carla.libcarla.Transform object at 0x7f9aa0169d50>, <carla.libcarla.Transform object at 0x7f9aa0169db0>, <carla.libcarla.Transform object at 0x7f9aa0169e10>, <carla.libcarla.Transform object at 0x7f9aa0169e70>, <carla.libcarla.Transform object at 0x7f9aa0169ed0>, <carla.libcarla.Transform object at 0x7f9aa0169f30>, <carla.libcarla.Transform object at 0x7f9aa0169f90>, <carla.libcarla.Transform object at 0x7f9aa016d030>, <carla.libcarla.Transform object at 0x7f9aa016d090>, <carla.libcarla.Transform object at 0x7f9aa016d0f0>, <carla.libcarla.Transform object at 0x7f9aa016d150>, <carla.libcarla.Transform object at 0x7f9aa016d1b0>, <carla.libcarla.Transform object at 0x7f9aa016d210>, <carla.libcarla.Transform object at 0x7f9aa016d270>, <carla.libcarla.Transform object at 0x7f9aa016d2d0>, <carla.libcarla.Transform object at 0x7f9aa016d330>, <carla.libcarla.Transform object at 0x7f9aa016d390>, <carla.libcarla.Transform object at 0x7f9aa016d3f0>, <carla.libcarla.Transform object at 0x7f9aa016d450>, <carla.libcarla.Transform object at 0x7f9aa016d4b0>, <carla.libcarla.Transform object at 0x7f9aa016d510>, <carla.libcarla.Transform object at 0x7f9aa016d570>, <carla.libcarla.Transform object at 0x7f9aa016d5d0>, <carla.libcarla.Transform object at 0x7f9aa016d630>, <carla.libcarla.Transform object at 0x7f9aa016d690>, <carla.libcarla.Transform object at 0x7f9aa016d6f0>, <carla.libcarla.Transform object at 0x7f9aa016d750>, <carla.libcarla.Transform object at 0x7f9aa016d7b0>, <carla.libcarla.Transform object at 0x7f9aa016d810>, <carla.libcarla.Transform object at 0x7f9aa016d870>, <carla.libcarla.Transform object at 0x7f9aa016d8d0>, <carla.libcarla.Transform object at 0x7f9aa016d930>, <carla.libcarla.Transform object at 0x7f9aa016d990>, <carla.libcarla.Transform object at 0x7f9aa016d9f0>, <carla.libcarla.Transform object at 0x7f9aa016da50>, <carla.libcarla.Transform object at 0x7f9aa016dab0>, <carla.libcarla.Transform object at 0x7f9aa016db10>, <carla.libcarla.Transform object at 0x7f9aa016db70>, <carla.libcarla.Transform object at 0x7f9aa016dbd0>, <carla.libcarla.Transform object at 0x7f9aa016dc30>, <carla.libcarla.Transform object at 0x7f9aa016dc90>, <carla.libcarla.Transform object at 0x7f9aa016dcf0>, <carla.libcarla.Transform object at 0x7f9aa016dd50>, <carla.libcarla.Transform object at 0x7f9aa016ddb0>, <carla.libcarla.Transform object at 0x7f9aa016de10>, <carla.libcarla.Transform object at 0x7f9aa016de70>, <carla.libcarla.Transform object at 0x7f9aa016ded0>, <carla.libcarla.Transform object at 0x7f9aa016df30>, <carla.libcarla.Transform object at 0x7f9aa016df90>, <carla.libcarla.Transform object at 0x7f9aa016f030>, <carla.libcarla.Transform object at 0x7f9aa016f090>, <carla.libcarla.Transform object at 0x7f9aa016f0f0>, <carla.libcarla.Transform object at 0x7f9aa016f150>, <carla.libcarla.Transform object at 0x7f9aa016f1b0>, <carla.libcarla.Transform object at 0x7f9aa016f210>, <carla.libcarla.Transform object at 0x7f9aa016f270>, <carla.libcarla.Transform object at 0x7f9aa016f2d0>, <carla.libcarla.Transform object at 0x7f9aa016f330>, <carla.libcarla.Transform object at 0x7f9aa016f390>, <carla.libcarla.Transform object at 0x7f9aa016f3f0>, <carla.libcarla.Transform object at 0x7f9aa016f450>, <carla.libcarla.Transform object at 0x7f9aa016f4b0>, <carla.libcarla.Transform object at 0x7f9aa016f510>, <carla.libcarla.Transform object at 0x7f9aa016f570>, <carla.libcarla.Transform object at 0x7f9aa016f5d0>, <carla.libcarla.Transform object at 0x7f9aa016f630>, <carla.libcarla.Transform object at 0x7f9aa016f690>, <carla.libcarla.Transform object at 0x7f9aa016f6f0>, <carla.libcarla.Transform object at 0x7f9aa016f750>, <carla.libcarla.Transform object at 0x7f9aa016f7b0>, <carla.libcarla.Transform object at 0x7f9aa016f810>, <carla.libcarla.Transform object at 0x7f9aa016f870>, <carla.libcarla.Transform object at 0x7f9aa016f8d0>, <carla.libcarla.Transform object at 0x7f9aa016f930>, <carla.libcarla.Transform object at 0x7f9aa016f990>, <carla.libcarla.Transform object at 0x7f9aa016f9f0>, <carla.libcarla.Transform object at 0x7f9aa016fa50>, <carla.libcarla.Transform object at 0x7f9aa016fab0>, <carla.libcarla.Transform object at 0x7f9aa016fb10>, <carla.libcarla.Transform object at 0x7f9aa016fb70>, <carla.libcarla.Transform object at 0x7f9aa016fbd0>, <carla.libcarla.Transform object at 0x7f9aa016fc30>, <carla.libcarla.Transform object at 0x7f9aa016fc90>, <carla.libcarla.Transform object at 0x7f9aa016fcf0>, <carla.libcarla.Transform object at 0x7f9aa016fd50>, <carla.libcarla.Transform object at 0x7f9aa016fdb0>, <carla.libcarla.Transform object at 0x7f9aa016fe10>, <carla.libcarla.Transform object at 0x7f9aa016fe70>, <carla.libcarla.Transform object at 0x7f9aa016fed0>, <carla.libcarla.Transform object at 0x7f9aa016ff30>, <carla.libcarla.Transform object at 0x7f9aa016ff90>, <carla.libcarla.Transform object at 0x7f9aa016e030>, <carla.libcarla.Transform object at 0x7f9aa016e090>, <carla.libcarla.Transform object at 0x7f9aa016e0f0>, <carla.libcarla.Transform object at 0x7f9aa016e150>, <carla.libcarla.Transform object at 0x7f9aa016e1b0>, <carla.libcarla.Transform object at 0x7f9aa016e210>, <carla.libcarla.Transform object at 0x7f9aa016e270>, <carla.libcarla.Transform object at 0x7f9aa016e2d0>, <carla.libcarla.Transform object at 0x7f9aa016e330>, <carla.libcarla.Transform object at 0x7f9aa016e390>, <carla.libcarla.Transform object at 0x7f9aa016e3f0>, <carla.libcarla.Transform object at 0x7f9aa016e450>, <carla.libcarla.Transform object at 0x7f9aa016e4b0>, <carla.libcarla.Transform object at 0x7f9aa016e510>, <carla.libcarla.Transform object at 0x7f9aa016e570>, <carla.libcarla.Transform object at 0x7f9aa016e5d0>, <carla.libcarla.Transform object at 0x7f9aa016e630>, <carla.libcarla.Transform object at 0x7f9aa016e690>, <carla.libcarla.Transform object at 0x7f9aa016e6f0>, <carla.libcarla.Transform object at 0x7f9aa016e750>, <carla.libcarla.Transform object at 0x7f9aa016e7b0>, <carla.libcarla.Transform object at 0x7f9aa016e810>, <carla.libcarla.Transform object at 0x7f9aa016e870>, <carla.libcarla.Transform object at 0x7f9aa016e8d0>, <carla.libcarla.Transform object at 0x7f9aa016e930>, <carla.libcarla.Transform object at 0x7f9aa016e990>, <carla.libcarla.Transform object at 0x7f9aa016e9f0>, <carla.libcarla.Transform object at 0x7f9aa016ea50>, <carla.libcarla.Transform object at 0x7f9aa016eab0>, <carla.libcarla.Transform object at 0x7f9aa016eb10>, <carla.libcarla.Transform object at 0x7f9aa016eb70>, <carla.libcarla.Transform object at 0x7f9aa016ebd0>, <carla.libcarla.Transform object at 0x7f9aa016ec30>, <carla.libcarla.Transform object at 0x7f9aa016ec90>, <carla.libcarla.Transform object at 0x7f9aa016ecf0>, <carla.libcarla.Transform object at 0x7f9aa016ed50>, <carla.libcarla.Transform object at 0x7f9aa016edb0>, <carla.libcarla.Transform object at 0x7f9aa016ee10>, <carla.libcarla.Transform object at 0x7f9aa016ee70>, <carla.libcarla.Transform object at 0x7f9aa016eed0>, <carla.libcarla.Transform object at 0x7f9aa016ef30>, <carla.libcarla.Transform object at 0x7f9aa016ef90>, <carla.libcarla.Transform object at 0x7f9aa0170030>, <carla.libcarla.Transform object at 0x7f9aa0170090>, <carla.libcarla.Transform object at 0x7f9aa01700f0>, <carla.libcarla.Transform object at 0x7f9aa0170150>, <carla.libcarla.Transform object at 0x7f9aa01701b0>, <carla.libcarla.Transform object at 0x7f9aa0170210>, <carla.libcarla.Transform object at 0x7f9aa0170270>, <carla.libcarla.Transform object at 0x7f9aa01702d0>, <carla.libcarla.Transform object at 0x7f9aa0170330>, <carla.libcarla.Transform object at 0x7f9aa0170390>, <carla.libcarla.Transform object at 0x7f9aa01703f0>, <carla.libcarla.Transform object at 0x7f9aa0170450>, <carla.libcarla.Transform object at 0x7f9aa01704b0>, <carla.libcarla.Transform object at 0x7f9aa0170510>, <carla.libcarla.Transform object at 0x7f9aa0170570>, <carla.libcarla.Transform object at 0x7f9aa01705d0>, <carla.libcarla.Transform object at 0x7f9aa0170630>, <carla.libcarla.Transform object at 0x7f9aa0170690>, <carla.libcarla.Transform object at 0x7f9aa01706f0>, <carla.libcarla.Transform object at 0x7f9aa0170750>, <carla.libcarla.Transform object at 0x7f9aa01707b0>, <carla.libcarla.Transform object at 0x7f9aa0170810>, <carla.libcarla.Transform object at 0x7f9aa0170870>, <carla.libcarla.Transform object at 0x7f9aa01708d0>, <carla.libcarla.Transform object at 0x7f9aa0170930>, <carla.libcarla.Transform object at 0x7f9aa0170990>, <carla.libcarla.Transform object at 0x7f9aa01709f0>, <carla.libcarla.Transform object at 0x7f9aa0170a50>, <carla.libcarla.Transform object at 0x7f9aa0170ab0>, <carla.libcarla.Transform object at 0x7f9aa0170b10>, <carla.libcarla.Transform object at 0x7f9aa0170b70>, <carla.libcarla.Transform object at 0x7f9aa0170bd0>, <carla.libcarla.Transform object at 0x7f9aa0170c30>, <carla.libcarla.Transform object at 0x7f9aa0170c90>, <carla.libcarla.Transform object at 0x7f9aa0170cf0>, <carla.libcarla.Transform object at 0x7f9aa0170d50>, <carla.libcarla.Transform object at 0x7f9aa0170db0>, <carla.libcarla.Transform object at 0x7f9aa0170e10>, <carla.libcarla.Transform object at 0x7f9aa0170e70>, <carla.libcarla.Transform object at 0x7f9aa0170ed0>, <carla.libcarla.Transform object at 0x7f9aa0170f30>, <carla.libcarla.Transform object at 0x7f9aa0170f90>, <carla.libcarla.Transform object at 0x7f9aa0171030>, <carla.libcarla.Transform object at 0x7f9aa0171090>, <carla.libcarla.Transform object at 0x7f9aa01710f0>, <carla.libcarla.Transform object at 0x7f9aa0171150>, <carla.libcarla.Transform object at 0x7f9aa01711b0>, <carla.libcarla.Transform object at 0x7f9aa0171210>, <carla.libcarla.Transform object at 0x7f9aa0171270>, <carla.libcarla.Transform object at 0x7f9aa01712d0>, <carla.libcarla.Transform object at 0x7f9aa0171330>, <carla.libcarla.Transform object at 0x7f9aa0171390>, <carla.libcarla.Transform object at 0x7f9aa01713f0>, <carla.libcarla.Transform object at 0x7f9aa0171450>, <carla.libcarla.Transform object at 0x7f9aa01714b0>, <carla.libcarla.Transform object at 0x7f9aa0171510>, <carla.libcarla.Transform object at 0x7f9aa0171570>, <carla.libcarla.Transform object at 0x7f9aa01715d0>, <carla.libcarla.Transform object at 0x7f9aa0171630>, <carla.libcarla.Transform object at 0x7f9aa0171690>, <carla.libcarla.Transform object at 0x7f9aa01716f0>, <carla.libcarla.Transform object at 0x7f9aa0171750>, <carla.libcarla.Transform object at 0x7f9aa01717b0>, <carla.libcarla.Transform object at 0x7f9aa0171810>, <carla.libcarla.Transform object at 0x7f9aa0171870>, <carla.libcarla.Transform object at 0x7f9aa01718d0>, <carla.libcarla.Transform object at 0x7f9aa0171930>, <carla.libcarla.Transform object at 0x7f9aa0171990>, <carla.libcarla.Transform object at 0x7f9aa01719f0>, <carla.libcarla.Transform object at 0x7f9aa0171a50>, <carla.libcarla.Transform object at 0x7f9aa0171ab0>, <carla.libcarla.Transform object at 0x7f9aa0171b10>, <carla.libcarla.Transform object at 0x7f9aa0171b70>, <carla.libcarla.Transform object at 0x7f9aa0171bd0>, <carla.libcarla.Transform object at 0x7f9aa0171c30>, <carla.libcarla.Transform object at 0x7f9aa0171c90>, <carla.libcarla.Transform object at 0x7f9aa0171cf0>, <carla.libcarla.Transform object at 0x7f9aa0171d50>, <carla.libcarla.Transform object at 0x7f9aa0171db0>, <carla.libcarla.Transform object at 0x7f9aa0171e10>, <carla.libcarla.Transform object at 0x7f9aa0171e70>, <carla.libcarla.Transform object at 0x7f9aa0171ed0>, <carla.libcarla.Transform object at 0x7f9aa0171f30>, <carla.libcarla.Transform object at 0x7f9aa0171f90>, <carla.libcarla.Transform object at 0x7f9aa0172030>, <carla.libcarla.Transform object at 0x7f9aa0172090>, <carla.libcarla.Transform object at 0x7f9aa01720f0>, <carla.libcarla.Transform object at 0x7f9aa0172150>, <carla.libcarla.Transform object at 0x7f9aa01721b0>, <carla.libcarla.Transform object at 0x7f9aa0172210>, <carla.libcarla.Transform object at 0x7f9aa0172270>, <carla.libcarla.Transform object at 0x7f9aa01722d0>, <carla.libcarla.Transform object at 0x7f9aa0172330>, <carla.libcarla.Transform object at 0x7f9aa0172390>, <carla.libcarla.Transform object at 0x7f9aa01723f0>, <carla.libcarla.Transform object at 0x7f9aa0172450>, <carla.libcarla.Transform object at 0x7f9aa01724b0>, <carla.libcarla.Transform object at 0x7f9aa0172510>, <carla.libcarla.Transform object at 0x7f9aa0172570>, <carla.libcarla.Transform object at 0x7f9aa01725d0>, <carla.libcarla.Transform object at 0x7f9aa0172630>, <carla.libcarla.Transform object at 0x7f9aa0172690>, <carla.libcarla.Transform object at 0x7f9aa01726f0>, <carla.libcarla.Transform object at 0x7f9aa0172750>, <carla.libcarla.Transform object at 0x7f9aa01727b0>, <carla.libcarla.Transform object at 0x7f9aa0172810>, <carla.libcarla.Transform object at 0x7f9aa0172870>, <carla.libcarla.Transform object at 0x7f9aa01728d0>, <carla.libcarla.Transform object at 0x7f9aa0172930>, <carla.libcarla.Transform object at 0x7f9aa0172990>, <carla.libcarla.Transform object at 0x7f9aa01729f0>, <carla.libcarla.Transform object at 0x7f9aa0172a50>, <carla.libcarla.Transform object at 0x7f9aa0172ab0>, <carla.libcarla.Transform object at 0x7f9aa0172b10>, <carla.libcarla.Transform object at 0x7f9aa0172b70>, <carla.libcarla.Transform object at 0x7f9aa0172bd0>, <carla.libcarla.Transform object at 0x7f9aa0172c30>, <carla.libcarla.Transform object at 0x7f9aa0172c90>, <carla.libcarla.Transform object at 0x7f9aa0172cf0>, <carla.libcarla.Transform object at 0x7f9aa0172d50>, <carla.libcarla.Transform object at 0x7f9aa0172db0>, <carla.libcarla.Transform object at 0x7f9aa0172e10>, <carla.libcarla.Transform object at 0x7f9aa0172e70>, <carla.libcarla.Transform object at 0x7f9aa0172ed0>, <carla.libcarla.Transform object at 0x7f9aa0172f30>, <carla.libcarla.Transform object at 0x7f9aa0172f90>, <carla.libcarla.Transform object at 0x7f9aa0173030>, <carla.libcarla.Transform object at 0x7f9aa0173090>, <carla.libcarla.Transform object at 0x7f9aa01730f0>, <carla.libcarla.Transform object at 0x7f9aa0173150>]\n"
     ]
    }
   ],
   "source": [
    "spawn_points = world.get_map().get_spawn_points()\n",
    "print(spawn_points)"
   ]
  },
  {
   "cell_type": "code",
   "execution_count": 75,
   "id": "eb87c0d2",
   "metadata": {},
   "outputs": [
    {
     "name": "stdout",
     "output_type": "stream",
     "text": [
      "Transform(Location(x=-19.119848, y=-17.558336, z=0.199069), Rotation(pitch=0.000000, yaw=0.000000, roll=0.000000))\n",
      "Location(x=-19.119848, y=-17.558336, z=0.199069)\n"
     ]
    }
   ],
   "source": [
    "spawn_point = carla.Transform()\n",
    "spawn_point.location = world.get_random_location_from_navigation()\n",
    "print(spawn_point)\n",
    "print(spawn_point.location)"
   ]
  },
  {
   "cell_type": "code",
   "execution_count": 76,
   "id": "f7f15883",
   "metadata": {},
   "outputs": [
    {
     "ename": "SyntaxError",
     "evalue": "positional argument follows keyword argument (387176063.py, line 1)",
     "output_type": "error",
     "traceback": [
      "\u001B[0;36m  File \u001B[0;32m\"/tmp/ipykernel_80107/387176063.py\"\u001B[0;36m, line \u001B[0;32m1\u001B[0m\n\u001B[0;31m    camera = world.spawn_actor(camera_bp, relative_transform, attach_to=my_vehicle, carla.AttachmentType.Rigid)\u001B[0m\n\u001B[0m                                                                                   ^\u001B[0m\n\u001B[0;31mSyntaxError\u001B[0m\u001B[0;31m:\u001B[0m positional argument follows keyword argument\n"
     ]
    }
   ],
   "source": [
    "camera = world.spawn_actor(camera_bp, relative_transform, attach_to=my_vehicle, carla.AttachmentType.Rigid)"
   ]
  },
  {
   "cell_type": "code",
   "execution_count": 77,
   "id": "3a044dae",
   "metadata": {},
   "outputs": [
    {
     "name": "stdout",
     "output_type": "stream",
     "text": [
      "[Actor(id=108, type=traffic.traffic_light), Actor(id=107, type=traffic.traffic_light), Actor(id=106, type=traffic.speed_limit.30), Actor(id=105, type=traffic.speed_limit.30), Actor(id=104, type=traffic.speed_limit.30), Actor(id=103, type=traffic.speed_limit.30), Actor(id=102, type=traffic.speed_limit.30), Actor(id=101, type=traffic.traffic_light), Actor(id=100, type=traffic.traffic_light), Actor(id=99, type=traffic.traffic_light), Actor(id=98, type=traffic.traffic_light), Actor(id=97, type=traffic.traffic_light), Actor(id=96, type=traffic.traffic_light), Actor(id=95, type=traffic.traffic_light), Actor(id=94, type=traffic.traffic_light), Actor(id=93, type=traffic.traffic_light), Actor(id=92, type=traffic.traffic_light), Actor(id=91, type=traffic.traffic_light), Actor(id=90, type=traffic.traffic_light), Actor(id=89, type=traffic.traffic_light), Actor(id=88, type=traffic.traffic_light), Actor(id=87, type=traffic.traffic_light), Actor(id=86, type=traffic.traffic_light), Actor(id=85, type=traffic.traffic_light), Actor(id=84, type=traffic.traffic_light), Actor(id=83, type=traffic.traffic_light), Actor(id=82, type=traffic.traffic_light), Actor(id=81, type=traffic.traffic_light), Actor(id=80, type=traffic.traffic_light), Actor(id=79, type=traffic.traffic_light), Actor(id=78, type=traffic.traffic_light), Actor(id=77, type=traffic.traffic_light), Actor(id=76, type=traffic.traffic_light), Actor(id=75, type=traffic.traffic_light), Actor(id=74, type=traffic.traffic_light), Actor(id=73, type=traffic.traffic_light), Actor(id=72, type=traffic.traffic_light), Actor(id=71, type=traffic.traffic_light), Actor(id=70, type=traffic.traffic_light), Actor(id=69, type=traffic.traffic_light), Actor(id=68, type=traffic.traffic_light), Actor(id=67, type=traffic.traffic_light), Actor(id=66, type=traffic.traffic_light), Actor(id=65, type=traffic.speed_limit.30), Actor(id=64, type=traffic.speed_limit.30), Actor(id=63, type=traffic.speed_limit.60), Actor(id=62, type=traffic.speed_limit.60), Actor(id=61, type=traffic.speed_limit.90), Actor(id=60, type=traffic.speed_limit.90), Actor(id=59, type=traffic.unknown), Actor(id=58, type=traffic.stop), Actor(id=57, type=traffic.unknown), Actor(id=56, type=traffic.unknown), Actor(id=55, type=traffic.unknown), Actor(id=54, type=traffic.unknown), Actor(id=53, type=traffic.unknown), Actor(id=52, type=traffic.unknown), Actor(id=51, type=traffic.unknown), Actor(id=50, type=traffic.unknown), Actor(id=49, type=traffic.unknown), Actor(id=48, type=traffic.unknown), Actor(id=47, type=traffic.unknown), Actor(id=46, type=traffic.unknown), Actor(id=45, type=traffic.unknown), Actor(id=44, type=traffic.unknown), Actor(id=43, type=traffic.stop), Actor(id=42, type=traffic.stop), Actor(id=41, type=traffic.stop), Actor(id=40, type=traffic.stop), Actor(id=39, type=traffic.stop), Actor(id=38, type=traffic.stop), Actor(id=37, type=traffic.stop), Actor(id=36, type=traffic.stop), Actor(id=35, type=traffic.stop), Actor(id=34, type=traffic.stop), Actor(id=33, type=traffic.stop), Actor(id=32, type=traffic.stop), Actor(id=31, type=traffic.stop), Actor(id=30, type=traffic.stop), Actor(id=29, type=traffic.stop), Actor(id=28, type=traffic.stop), Actor(id=27, type=traffic.stop), Actor(id=26, type=traffic.stop), Actor(id=25, type=traffic.stop), Actor(id=24, type=spectator)]\n"
     ]
    }
   ],
   "source": [
    "actor_list = world.get_actors()\n",
    "print(actor_list)"
   ]
  },
  {
   "cell_type": "code",
   "execution_count": 80,
   "id": "df0a5142",
   "metadata": {},
   "outputs": [
    {
     "name": "stdout",
     "output_type": "stream",
     "text": [
      "Actor(id=108, type=traffic.traffic_light)\n"
     ]
    }
   ],
   "source": [
    "# Find an actor by id.\n",
    "id=108\n",
    "actor = actor_list.find(id)\n",
    "print(actor)"
   ]
  },
  {
   "cell_type": "code",
   "execution_count": 81,
   "id": "106fce51",
   "metadata": {},
   "outputs": [
    {
     "name": "stdout",
     "output_type": "stream",
     "text": [
      "Location(x=141.730560, y=-65.413078, z=7.986372)\n",
      "Location(x=71.224640, y=-67.036301, z=7.921471)\n",
      "Location(x=162.870285, y=-144.941574, z=8.147064)\n",
      "Location(x=94.258369, y=-146.386414, z=7.735237)\n",
      "Location(x=71.652374, y=-145.270218, z=7.632200)\n",
      "Location(x=43.386932, y=188.631561, z=0.226719)\n",
      "Location(x=247.936935, y=117.181549, z=0.526719)\n",
      "Location(x=90.641014, y=188.483429, z=1.258194)\n",
      "Location(x=238.841003, y=170.333435, z=1.808194)\n",
      "Location(x=224.599991, y=90.399078, z=0.102401)\n",
      "Location(x=-83.099991, y=191.399078, z=0.152401)\n"
     ]
    }
   ],
   "source": [
    "# Print the location of all the speed limit signs in the world.\n",
    "for speed_sign in actor_list.filter('traffic.speed_limit.*'):\n",
    "    print(speed_sign.get_location())"
   ]
  },
  {
   "cell_type": "code",
   "execution_count": 82,
   "id": "6b00b621",
   "metadata": {},
   "outputs": [
    {
     "name": "stdout",
     "output_type": "stream",
     "text": [
      "Vector3D(x=0.000000, y=0.000000, z=0.000000)\n",
      "Vector3D(x=0.000000, y=0.000000, z=0.000000)\n"
     ]
    }
   ],
   "source": [
    "print(actor.get_acceleration())\n",
    "print(actor.get_velocity())"
   ]
  },
  {
   "cell_type": "code",
   "execution_count": 54,
   "id": "42963577",
   "metadata": {},
   "outputs": [],
   "source": [
    "actor.set_simulate_physics(False)"
   ]
  },
  {
   "cell_type": "code",
   "execution_count": 55,
   "id": "d66179ab",
   "metadata": {},
   "outputs": [],
   "source": [
    "destroyed_sucessfully = actor.destroy()"
   ]
  },
  {
   "cell_type": "code",
   "execution_count": 90,
   "id": "b2f01ae0",
   "metadata": {},
   "outputs": [
    {
     "name": "stdout",
     "output_type": "stream",
     "text": [
      "Location(x=-97.690376, y=-8.776090, z=0.152401)\n"
     ]
    }
   ],
   "source": [
    "location = actor.get_location()\n",
    "print(location)\n",
    "location.z += 10.0\n",
    "actor.set_location(location)"
   ]
  },
  {
   "cell_type": "code",
   "execution_count": 91,
   "id": "cc94f95c",
   "metadata": {},
   "outputs": [
    {
     "ename": "NameError",
     "evalue": "name 'relative_transform' is not defined",
     "output_type": "error",
     "traceback": [
      "\u001B[0;31m---------------------------------------------------------------------------\u001B[0m",
      "\u001B[0;31mNameError\u001B[0m                                 Traceback (most recent call last)",
      "\u001B[0;32m/tmp/ipykernel_80107/1466107494.py\u001B[0m in \u001B[0;36m<module>\u001B[0;34m\u001B[0m\n\u001B[1;32m      1\u001B[0m \u001B[0mcamera_bp\u001B[0m \u001B[0;34m=\u001B[0m \u001B[0mblueprint_library\u001B[0m\u001B[0;34m.\u001B[0m\u001B[0mfind\u001B[0m\u001B[0;34m(\u001B[0m\u001B[0;34m'sensor.camera.rgb'\u001B[0m\u001B[0;34m)\u001B[0m\u001B[0;34m\u001B[0m\u001B[0;34m\u001B[0m\u001B[0m\n\u001B[0;32m----> 2\u001B[0;31m \u001B[0mcamera\u001B[0m \u001B[0;34m=\u001B[0m \u001B[0mworld\u001B[0m\u001B[0;34m.\u001B[0m\u001B[0mspawn_actor\u001B[0m\u001B[0;34m(\u001B[0m\u001B[0mcamera_bp\u001B[0m\u001B[0;34m,\u001B[0m \u001B[0mrelative_transform\u001B[0m\u001B[0;34m,\u001B[0m \u001B[0mattach_to\u001B[0m\u001B[0;34m=\u001B[0m\u001B[0mmy_vehicle\u001B[0m\u001B[0;34m)\u001B[0m\u001B[0;34m\u001B[0m\u001B[0;34m\u001B[0m\u001B[0m\n\u001B[0m\u001B[1;32m      3\u001B[0m \u001B[0mcamera\u001B[0m\u001B[0;34m.\u001B[0m\u001B[0mlisten\u001B[0m\u001B[0;34m(\u001B[0m\u001B[0;32mlambda\u001B[0m \u001B[0mimage\u001B[0m\u001B[0;34m:\u001B[0m \u001B[0mimage\u001B[0m\u001B[0;34m.\u001B[0m\u001B[0msave_to_disk\u001B[0m\u001B[0;34m(\u001B[0m\u001B[0;34m'output/%06d.png'\u001B[0m \u001B[0;34m%\u001B[0m \u001B[0mimage\u001B[0m\u001B[0;34m.\u001B[0m\u001B[0mframe\u001B[0m\u001B[0;34m)\u001B[0m\u001B[0;34m)\u001B[0m\u001B[0;34m\u001B[0m\u001B[0;34m\u001B[0m\u001B[0m\n",
      "\u001B[0;31mNameError\u001B[0m: name 'relative_transform' is not defined"
     ]
    }
   ],
   "source": [
    "camera_bp = blueprint_library.find('sensor.camera.rgb')\n",
    "camera = world.spawn_actor(camera_bp, relative_transform, attach_to=my_vehicle)\n",
    "camera.listen(lambda image: image.save_to_disk('output/%06d.png' % image.frame))"
   ]
  },
  {
   "cell_type": "code",
   "execution_count": 92,
   "id": "5f51620e",
   "metadata": {},
   "outputs": [
    {
     "ename": "AttributeError",
     "evalue": "'ActorBlueprint' object has no attribute 'get_transform'",
     "output_type": "error",
     "traceback": [
      "\u001B[0;31m---------------------------------------------------------------------------\u001B[0m",
      "\u001B[0;31mAttributeError\u001B[0m                            Traceback (most recent call last)",
      "\u001B[0;32m/tmp/ipykernel_80107/67883589.py\u001B[0m in \u001B[0;36m<module>\u001B[0;34m\u001B[0m\n\u001B[1;32m      1\u001B[0m \u001B[0mspectator\u001B[0m \u001B[0;34m=\u001B[0m \u001B[0mworld\u001B[0m\u001B[0;34m.\u001B[0m\u001B[0mget_spectator\u001B[0m\u001B[0;34m(\u001B[0m\u001B[0;34m)\u001B[0m\u001B[0;34m\u001B[0m\u001B[0;34m\u001B[0m\u001B[0m\n\u001B[0;32m----> 2\u001B[0;31m \u001B[0mtransform\u001B[0m \u001B[0;34m=\u001B[0m \u001B[0mvehicle\u001B[0m\u001B[0;34m.\u001B[0m\u001B[0mget_transform\u001B[0m\u001B[0;34m(\u001B[0m\u001B[0;34m)\u001B[0m\u001B[0;34m\u001B[0m\u001B[0;34m\u001B[0m\u001B[0m\n\u001B[0m\u001B[1;32m      3\u001B[0m spectator.set_transform(carla.Transform(transform.location + carla.Location(z=50),\n\u001B[1;32m      4\u001B[0m carla.Rotation(pitch=-90)))\n",
      "\u001B[0;31mAttributeError\u001B[0m: 'ActorBlueprint' object has no attribute 'get_transform'"
     ]
    }
   ],
   "source": [
    "spectator = world.get_spectator()\n",
    "transform = vehicle.get_transform()\n",
    "spectator.set_transform(carla.Transform(transform.location + carla.Location(z=50),\n",
    "carla.Rotation(pitch=-90)))"
   ]
  },
  {
   "cell_type": "code",
   "execution_count": 95,
   "id": "170a102d",
   "metadata": {},
   "outputs": [
    {
     "ename": "AttributeError",
     "evalue": "'World' object has no attribute 'SpawnActor'",
     "output_type": "error",
     "traceback": [
      "\u001B[0;31m---------------------------------------------------------------------------\u001B[0m",
      "\u001B[0;31mAttributeError\u001B[0m                            Traceback (most recent call last)",
      "\u001B[0;32m/tmp/ipykernel_80107/1769636504.py\u001B[0m in \u001B[0;36m<module>\u001B[0;34m\u001B[0m\n\u001B[1;32m      1\u001B[0m \u001B[0mwalker_controller_bp\u001B[0m \u001B[0;34m=\u001B[0m \u001B[0mworld\u001B[0m\u001B[0;34m.\u001B[0m\u001B[0mget_blueprint_library\u001B[0m\u001B[0;34m(\u001B[0m\u001B[0;34m)\u001B[0m\u001B[0;34m.\u001B[0m\u001B[0mfind\u001B[0m\u001B[0;34m(\u001B[0m\u001B[0;34m'controller.ai.walker'\u001B[0m\u001B[0;34m)\u001B[0m\u001B[0;34m\u001B[0m\u001B[0;34m\u001B[0m\u001B[0m\n\u001B[0;32m----> 2\u001B[0;31m \u001B[0mworld\u001B[0m\u001B[0;34m.\u001B[0m\u001B[0mSpawnActor\u001B[0m\u001B[0;34m(\u001B[0m\u001B[0mwalker_controller_bp\u001B[0m\u001B[0;34m,\u001B[0m \u001B[0mcarla\u001B[0m\u001B[0;34m.\u001B[0m\u001B[0mTransform\u001B[0m\u001B[0;34m(\u001B[0m\u001B[0;34m)\u001B[0m\u001B[0;34m,\u001B[0m \u001B[0mparent_walker\u001B[0m\u001B[0;34m)\u001B[0m\u001B[0;34m\u001B[0m\u001B[0;34m\u001B[0m\u001B[0m\n\u001B[0m",
      "\u001B[0;31mAttributeError\u001B[0m: 'World' object has no attribute 'SpawnActor'"
     ]
    }
   ],
   "source": [
    "walker_controller_bp = world.get_blueprint_library().find('controller.ai.walker')\n",
    "world.SpawnActor(walker_controller_bp, carla.Transform(), parent_walker)"
   ]
  },
  {
   "cell_type": "code",
   "execution_count": 96,
   "id": "4923c524",
   "metadata": {},
   "outputs": [
    {
     "ename": "NameError",
     "evalue": "name 'ai_controller' is not defined",
     "output_type": "error",
     "traceback": [
      "\u001B[0;31m---------------------------------------------------------------------------\u001B[0m",
      "\u001B[0;31mNameError\u001B[0m                                 Traceback (most recent call last)",
      "\u001B[0;32m/tmp/ipykernel_80107/3681503816.py\u001B[0m in \u001B[0;36m<module>\u001B[0;34m\u001B[0m\n\u001B[0;32m----> 1\u001B[0;31m \u001B[0mai_controller\u001B[0m\u001B[0;34m.\u001B[0m\u001B[0mstart\u001B[0m\u001B[0;34m(\u001B[0m\u001B[0;34m)\u001B[0m\u001B[0;34m\u001B[0m\u001B[0;34m\u001B[0m\u001B[0m\n\u001B[0m\u001B[1;32m      2\u001B[0m \u001B[0mai_controller\u001B[0m\u001B[0;34m.\u001B[0m\u001B[0mgo_to_location\u001B[0m\u001B[0;34m(\u001B[0m\u001B[0mworld\u001B[0m\u001B[0;34m.\u001B[0m\u001B[0mget_random_location_from_navigation\u001B[0m\u001B[0;34m(\u001B[0m\u001B[0;34m)\u001B[0m\u001B[0;34m)\u001B[0m\u001B[0;34m\u001B[0m\u001B[0;34m\u001B[0m\u001B[0m\n\u001B[1;32m      3\u001B[0m \u001B[0mai_controller\u001B[0m\u001B[0;34m.\u001B[0m\u001B[0mset_max_speed\u001B[0m\u001B[0;34m(\u001B[0m\u001B[0;36m1\u001B[0m \u001B[0;34m+\u001B[0m \u001B[0mrandom\u001B[0m\u001B[0;34m.\u001B[0m\u001B[0mrandom\u001B[0m\u001B[0;34m(\u001B[0m\u001B[0;34m)\u001B[0m\u001B[0;34m)\u001B[0m  \u001B[0;31m# Between 1 and 2 m/s (default is 1.4 m/s).\u001B[0m\u001B[0;34m\u001B[0m\u001B[0;34m\u001B[0m\u001B[0m\n\u001B[1;32m      4\u001B[0m \u001B[0;34m...\u001B[0m\u001B[0;34m\u001B[0m\u001B[0;34m\u001B[0m\u001B[0m\n\u001B[1;32m      5\u001B[0m \u001B[0mai_controller\u001B[0m\u001B[0;34m.\u001B[0m\u001B[0mstop\u001B[0m\u001B[0;34m(\u001B[0m\u001B[0;34m)\u001B[0m\u001B[0;34m\u001B[0m\u001B[0;34m\u001B[0m\u001B[0m\n",
      "\u001B[0;31mNameError\u001B[0m: name 'ai_controller' is not defined"
     ]
    }
   ],
   "source": [
    "ai_controller.start()\n",
    "ai_controller.go_to_location(world.get_random_location_from_navigation())\n",
    "ai_controller.set_max_speed(1 + random.random())  # Between 1 and 2 m/s (default is 1.4 m/s).\n",
    "...\n",
    "ai_controller.stop()"
   ]
  },
  {
   "cell_type": "code",
   "execution_count": 97,
   "id": "d67f30a2",
   "metadata": {},
   "outputs": [],
   "source": [
    " world.unload_map_layer(carla.MapLayer.Buildings)"
   ]
  },
  {
   "cell_type": "code",
   "execution_count": null,
   "id": "49bec785",
   "metadata": {},
   "outputs": [],
   "source": []
  }
 ],
 "metadata": {
  "kernelspec": {
   "display_name": "Python 3 (ipykernel)",
   "language": "python",
   "name": "python3"
  },
  "language_info": {
   "codemirror_mode": {
    "name": "ipython",
    "version": 3
   },
   "file_extension": ".py",
   "mimetype": "text/x-python",
   "name": "python",
   "nbconvert_exporter": "python",
   "pygments_lexer": "ipython3",
   "version": "3.7.13"
  }
 },
 "nbformat": 4,
 "nbformat_minor": 5
}