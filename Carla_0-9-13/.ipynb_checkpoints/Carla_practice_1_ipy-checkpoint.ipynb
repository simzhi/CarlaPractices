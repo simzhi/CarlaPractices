{
 "cells": [
  {
   "cell_type": "code",
   "execution_count": 1,
   "id": "96c1110e",
   "metadata": {},
   "outputs": [],
   "source": [
    "import carla\n",
    "import random"
   ]
  },
  {
   "cell_type": "code",
   "execution_count": 11,
   "id": "08aeb624",
   "metadata": {},
   "outputs": [
    {
     "name": "stdout",
     "output_type": "stream",
     "text": [
      "client <carla.libcarla.Client object at 0x7f32440bf4b0>\n",
      "None\n",
      "0.9.13\n",
      "0.9.13\n"
     ]
    }
   ],
   "source": [
    "client = carla.Client('localhost', 2000)\n",
    "print(\"client\", client)\n",
    "client.set_timeout(10.0)\n",
    "print(client.get_client_version())\n",
    "print(client.get_server_version())"
   ]
  },
  {
   "cell_type": "code",
   "execution_count": 6,
   "id": "e132f35b",
   "metadata": {},
   "outputs": [
    {
     "name": "stdout",
     "output_type": "stream",
     "text": [
      "World(id=7067136078161539902)\n"
     ]
    }
   ],
   "source": [
    "world = client.get_world()\n",
    "print(world)"
   ]
  },
  {
   "cell_type": "code",
   "execution_count": 12,
   "id": "3b92b58c",
   "metadata": {},
   "outputs": [
    {
     "name": "stdout",
     "output_type": "stream",
     "text": [
      "['/Game/Carla/Maps/Town05_Opt', '/Game/Carla/Maps/Town10HD', '/Game/Carla/Maps/Town01_Opt', '/Game/Carla/Maps/Town07_Opt', '/Game/Carla/Maps/Town07', '/Game/Carla/Maps/Town02', '/Game/Carla/Maps/Town03', '/Game/Carla/Maps/Town06_Opt', '/Game/Carla/Maps/Town04_Opt', '/Game/Carla/Maps/Town10HD_Opt', '/Game/Carla/Maps/Town05', '/Game/Carla/Maps/Town04', '/Game/Carla/Maps/Town03_Opt', '/Game/Carla/Maps/Town06', '/Game/Carla/Maps/Town02_Opt', '/Game/Carla/Maps/Town01', '/Game/Carla/Maps/Town11/Town11']\n"
     ]
    }
   ],
   "source": [
    "print(client.get_available_maps())"
   ]
  },
  {
   "cell_type": "code",
   "execution_count": 15,
   "id": "8382d6eb",
   "metadata": {},
   "outputs": [],
   "source": [
    "world = client.load_world('Town03_Opt')"
   ]
  },
  {
   "cell_type": "code",
   "execution_count": 16,
   "id": "c20057a3",
   "metadata": {},
   "outputs": [
    {
     "ename": "NameError",
     "evalue": "name 'vehicles_list' is not defined",
     "output_type": "error",
     "traceback": [
      "\u001b[0;31m---------------------------------------------------------------------------\u001b[0m",
      "\u001b[0;31mNameError\u001b[0m                                 Traceback (most recent call last)",
      "\u001b[0;32m/tmp/ipykernel_78755/3770974622.py\u001b[0m in \u001b[0;36m<module>\u001b[0;34m\u001b[0m\n\u001b[0;32m----> 1\u001b[0;31m \u001b[0mclient\u001b[0m\u001b[0;34m.\u001b[0m\u001b[0mapply_batch\u001b[0m\u001b[0;34m(\u001b[0m\u001b[0;34m[\u001b[0m\u001b[0mcarla\u001b[0m\u001b[0;34m.\u001b[0m\u001b[0mcommand\u001b[0m\u001b[0;34m.\u001b[0m\u001b[0mDestroyActor\u001b[0m\u001b[0;34m(\u001b[0m\u001b[0mx\u001b[0m\u001b[0;34m)\u001b[0m \u001b[0;32mfor\u001b[0m \u001b[0mx\u001b[0m \u001b[0;32min\u001b[0m \u001b[0mvehicles_list\u001b[0m\u001b[0;34m]\u001b[0m\u001b[0;34m)\u001b[0m\u001b[0;34m\u001b[0m\u001b[0;34m\u001b[0m\u001b[0m\n\u001b[0m",
      "\u001b[0;31mNameError\u001b[0m: name 'vehicles_list' is not defined"
     ]
    }
   ],
   "source": [
    "client.apply_batch([carla.command.DestroyActor(x) for x in vehicles_list])"
   ]
  },
  {
   "cell_type": "code",
   "execution_count": 24,
   "id": "90a70da0",
   "metadata": {},
   "outputs": [
    {
     "name": "stdout",
     "output_type": "stream",
     "text": [
      "WeatherParameters(cloudiness=0.000000, cloudiness=0.000000, precipitation=30.000000, precipitation_deposits=0.000000, wind_intensity=0.000000, sun_azimuth_angle=0.000000, sun_altitude_angle=45.000000, fog_density=0.000000, fog_distance=0.000000, fog_falloff=0.000000, wetness=0.000000, scattering_intensity=0.000000, mie_scattering_scale=0.000000, rayleigh_scattering_scale=0.033100)\n"
     ]
    }
   ],
   "source": [
    "weather = carla.WeatherParameters(\n",
    "    cloudiness=0.0,\n",
    "    precipitation=30.0,\n",
    "    sun_altitude_angle=45.0)\n",
    "world.set_weather(weather)\n",
    "print(world.get_weather())"
   ]
  },
  {
   "cell_type": "code",
   "execution_count": 34,
   "id": "ea18740a",
   "metadata": {},
   "outputs": [],
   "source": [
    "world_snapshot = world.get_snapshot()"
   ]
  },
  {
   "cell_type": "code",
   "execution_count": 35,
   "id": "11cb3590",
   "metadata": {},
   "outputs": [],
   "source": [
    "timestamp = world_snapshot.timestamp # Get the time reference \n",
    "\n",
    "for actor_snapshot in world_snapshot: # Get the actor and the snapshot information\n",
    "    actual_actor = world.get_actor(actor_snapshot.id)\n",
    "    actor_snapshot.get_transform()\n",
    "    actor_snapshot.get_velocity()\n",
    "    actor_snapshot.get_angular_velocity()\n",
    "    actor_snapshot.get_acceleration()  \n",
    "\n",
    "actor_snapshot = world_snapshot.find(actual_actor.id) # Get an actor's snapshot"
   ]
  },
  {
   "cell_type": "code",
   "execution_count": 36,
   "id": "b1995fc4",
   "metadata": {},
   "outputs": [],
   "source": [
    "debug = world.debug\n",
    "debug.draw_box(carla.BoundingBox(actor_snapshot.get_transform().location,carla.Vector3D(0.5,0.5,2)),actor_snapshot.get_transform().rotation, 0.05, carla.Color(255,0,0,0),0)"
   ]
  },
  {
   "cell_type": "code",
   "execution_count": null,
   "id": "099e6f08",
   "metadata": {},
   "outputs": [],
   "source": []
  }
 ],
 "metadata": {
  "kernelspec": {
   "display_name": "Python 3 (ipykernel)",
   "language": "python",
   "name": "python3"
  },
  "language_info": {
   "codemirror_mode": {
    "name": "ipython",
    "version": 3
   },
   "file_extension": ".py",
   "mimetype": "text/x-python",
   "name": "python",
   "nbconvert_exporter": "python",
   "pygments_lexer": "ipython3",
   "version": "3.7.13"
  }
 },
 "nbformat": 4,
 "nbformat_minor": 5
}
