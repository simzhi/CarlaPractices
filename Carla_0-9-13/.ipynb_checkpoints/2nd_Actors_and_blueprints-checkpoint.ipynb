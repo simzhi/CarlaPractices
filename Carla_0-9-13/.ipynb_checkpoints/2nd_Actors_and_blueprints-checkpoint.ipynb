{
 "cells": [
  {
   "cell_type": "code",
   "execution_count": 3,
   "id": "b3939b0b",
   "metadata": {},
   "outputs": [
    {
     "name": "stdout",
     "output_type": "stream",
     "text": [
      "client <carla.libcarla.Client object at 0x7f9aa01aa770>\n"
     ]
    }
   ],
   "source": [
    "import carla\n",
    "import random\n",
    "client = carla.Client('localhost', 2000)\n",
    "print(\"client\", client)\n",
    "\n",
    "world = client.get_world()"
   ]
  },
  {
   "cell_type": "code",
   "execution_count": 5,
   "id": "c75ef734",
   "metadata": {},
   "outputs": [
    {
     "name": "stdout",
     "output_type": "stream",
     "text": [
      "[ActorBlueprint(id=static.prop.mesh,tags=[mesh, prop, static]), ActorBlueprint(id=static.prop.trashcan01,tags=[trashcan01, prop, static]), ActorBlueprint(id=static.prop.trashbag,tags=[trashbag, prop, static]), ActorBlueprint(id=static.prop.trafficwarning,tags=[trafficwarning, prop, static]), ActorBlueprint(id=static.prop.trafficcone02,tags=[trafficcone02, prop, static]), ActorBlueprint(id=static.prop.trafficcone01,tags=[trafficcone01, prop, static]), ActorBlueprint(id=static.prop.table,tags=[table, prop, static]), ActorBlueprint(id=static.prop.streetbarrier,tags=[streetbarrier, prop, static]), ActorBlueprint(id=static.prop.shoppingtrolley,tags=[shoppingtrolley, prop, static]), ActorBlueprint(id=static.prop.shoppingbag,tags=[shoppingbag, prop, static]), ActorBlueprint(id=static.prop.shoppingcart,tags=[shoppingcart, prop, static]), ActorBlueprint(id=static.prop.plasticchair,tags=[plasticchair, prop, static]), ActorBlueprint(id=static.prop.plantpot08,tags=[plantpot08, prop, static]), ActorBlueprint(id=static.prop.platformgarbage01,tags=[platformgarbage01, prop, static]), ActorBlueprint(id=static.prop.plasticbag,tags=[plasticbag, prop, static]), ActorBlueprint(id=static.prop.plantpot07,tags=[plantpot07, prop, static]), ActorBlueprint(id=static.prop.plantpot05,tags=[plantpot05, prop, static]), ActorBlueprint(id=static.prop.plantpot03,tags=[plantpot03, prop, static]), ActorBlueprint(id=static.prop.plantpot02,tags=[plantpot02, prop, static]), ActorBlueprint(id=static.prop.plantpot01,tags=[plantpot01, prop, static]), ActorBlueprint(id=static.prop.fountain,tags=[fountain, prop, static]), ActorBlueprint(id=static.prop.motorhelmet,tags=[prop, motorhelmet, static]), ActorBlueprint(id=static.prop.maptable,tags=[maptable, prop, static]), ActorBlueprint(id=static.prop.kiosk_01,tags=[kiosk_01, prop, static]), ActorBlueprint(id=static.prop.ironplank,tags=[ironplank, prop, static]), ActorBlueprint(id=static.prop.gnome,tags=[prop, gnome, static]), ActorBlueprint(id=static.prop.gardenlamp,tags=[gardenlamp, prop, static]), ActorBlueprint(id=static.prop.travelcase,tags=[travelcase, prop, static]), ActorBlueprint(id=static.prop.garbage06,tags=[garbage06, prop, static]), ActorBlueprint(id=static.prop.swing,tags=[swing, prop, static]), ActorBlueprint(id=static.prop.garbage04,tags=[garbage04, prop, static]), ActorBlueprint(id=static.prop.garbage01,tags=[garbage01, prop, static]), ActorBlueprint(id=static.prop.dirtdebris03,tags=[dirtdebris03, prop, static]), ActorBlueprint(id=static.prop.dirtdebris01,tags=[dirtdebris01, prop, static]), ActorBlueprint(id=static.prop.creasedbox02,tags=[creasedbox02, prop, static]), ActorBlueprint(id=static.prop.purse,tags=[prop, purse, static]), ActorBlueprint(id=static.prop.guitarcase,tags=[guitarcase, prop, static]), ActorBlueprint(id=static.prop.constructioncone,tags=[constructioncone, prop, static]), ActorBlueprint(id=static.prop.streetfountain,tags=[streetfountain, prop, static]), ActorBlueprint(id=static.prop.streetsign,tags=[streetsign, prop, static]), ActorBlueprint(id=static.prop.container,tags=[container, prop, static]), ActorBlueprint(id=static.prop.clothcontainer,tags=[clothcontainer, prop, static]), ActorBlueprint(id=static.prop.chainbarrierend,tags=[chainbarrierend, prop, static]), ActorBlueprint(id=static.prop.busstop,tags=[busstop, prop, static]), ActorBlueprint(id=static.prop.brokentile02,tags=[brokentile02, prop, static]), ActorBlueprint(id=static.prop.box03,tags=[box03, prop, static]), ActorBlueprint(id=static.prop.box02,tags=[box02, prop, static]), ActorBlueprint(id=static.prop.bike helmet,tags=[bike helmet, prop, static]), ActorBlueprint(id=static.prop.bench03,tags=[bench03, prop, static]), ActorBlueprint(id=static.prop.bench02,tags=[bench02, prop, static]), ActorBlueprint(id=controller.ai.walker,tags=[walker, ai, controller]), ActorBlueprint(id=static.prop.garbage02,tags=[garbage02, prop, static]), ActorBlueprint(id=static.prop.barrel,tags=[barrel, prop, static]), ActorBlueprint(id=walker.pedestrian.0049,tags=[0049, pedestrian, walker]), ActorBlueprint(id=walker.pedestrian.0046,tags=[0046, pedestrian, walker]), ActorBlueprint(id=static.prop.advertisement,tags=[advertisement, prop, static]), ActorBlueprint(id=walker.pedestrian.0045,tags=[0045, pedestrian, walker]), ActorBlueprint(id=walker.pedestrian.0044,tags=[0044, pedestrian, walker]), ActorBlueprint(id=static.prop.creasedbox03,tags=[creasedbox03, prop, static]), ActorBlueprint(id=walker.pedestrian.0043,tags=[0043, pedestrian, walker]), ActorBlueprint(id=walker.pedestrian.0042,tags=[0042, pedestrian, walker]), ActorBlueprint(id=walker.pedestrian.0041,tags=[0041, pedestrian, walker]), ActorBlueprint(id=walker.pedestrian.0039,tags=[0039, pedestrian, walker]), ActorBlueprint(id=static.prop.trashcan03,tags=[trashcan03, prop, static]), ActorBlueprint(id=static.prop.brokentile01,tags=[brokentile01, prop, static]), ActorBlueprint(id=walker.pedestrian.0038,tags=[0038, pedestrian, walker]), ActorBlueprint(id=static.prop.garbage05,tags=[garbage05, prop, static]), ActorBlueprint(id=walker.pedestrian.0037,tags=[0037, pedestrian, walker]), ActorBlueprint(id=walker.pedestrian.0036,tags=[0036, pedestrian, walker]), ActorBlueprint(id=walker.pedestrian.0035,tags=[0035, pedestrian, walker]), ActorBlueprint(id=static.prop.colacan,tags=[colacan, prop, static]), ActorBlueprint(id=walker.pedestrian.0034,tags=[0034, pedestrian, walker]), ActorBlueprint(id=walker.pedestrian.0033,tags=[0033, pedestrian, walker]), ActorBlueprint(id=walker.pedestrian.0028,tags=[pedestrian, 0028, walker]), ActorBlueprint(id=static.prop.clothesline,tags=[clothesline, prop, static]), ActorBlueprint(id=walker.pedestrian.0024,tags=[pedestrian, 0024, walker]), ActorBlueprint(id=static.prop.box01,tags=[box01, prop, static]), ActorBlueprint(id=walker.pedestrian.0022,tags=[0022, pedestrian, walker]), ActorBlueprint(id=static.prop.vendingmachine,tags=[vendingmachine, prop, static]), ActorBlueprint(id=walker.pedestrian.0030,tags=[0030, pedestrian, walker]), ActorBlueprint(id=walker.pedestrian.0021,tags=[0021, pedestrian, walker]), ActorBlueprint(id=walker.pedestrian.0020,tags=[0020, pedestrian, walker]), ActorBlueprint(id=walker.pedestrian.0019,tags=[0019, pedestrian, walker]), ActorBlueprint(id=walker.pedestrian.0016,tags=[0016, pedestrian, walker]), ActorBlueprint(id=static.prop.doghouse,tags=[doghouse, prop, static]), ActorBlueprint(id=walker.pedestrian.0040,tags=[0040, pedestrian, walker]), ActorBlueprint(id=walker.pedestrian.0014,tags=[0014, pedestrian, walker]), ActorBlueprint(id=static.prop.streetsign01,tags=[streetsign01, prop, static]), ActorBlueprint(id=walker.pedestrian.0011,tags=[0011, pedestrian, walker]), ActorBlueprint(id=static.prop.streetsign04,tags=[streetsign04, prop, static]), ActorBlueprint(id=static.prop.plastictable,tags=[plastictable, prop, static]), ActorBlueprint(id=walker.pedestrian.0031,tags=[0031, pedestrian, walker]), ActorBlueprint(id=walker.pedestrian.0023,tags=[0023, pedestrian, walker]), ActorBlueprint(id=walker.pedestrian.0009,tags=[0009, pedestrian, walker]), ActorBlueprint(id=walker.pedestrian.0047,tags=[pedestrian, 0047, walker]), ActorBlueprint(id=walker.pedestrian.0007,tags=[0007, pedestrian, walker]), ActorBlueprint(id=walker.pedestrian.0006,tags=[pedestrian, 0006, walker]), ActorBlueprint(id=walker.pedestrian.0048,tags=[0048, pedestrian, walker]), ActorBlueprint(id=walker.pedestrian.0005,tags=[0005, pedestrian, walker]), ActorBlueprint(id=walker.pedestrian.0004,tags=[0004, pedestrian, walker]), ActorBlueprint(id=walker.pedestrian.0003,tags=[0003, pedestrian, walker]), ActorBlueprint(id=static.prop.creasedbox01,tags=[prop, creasedbox01, static]), ActorBlueprint(id=walker.pedestrian.0001,tags=[0001, pedestrian, walker]), ActorBlueprint(id=sensor.camera.instance_segmentation,tags=[instance_segmentation, camera, sensor]), ActorBlueprint(id=static.prop.plantpot04,tags=[prop, plantpot04, static]), ActorBlueprint(id=sensor.camera.semantic_segmentation,tags=[semantic_segmentation, camera, sensor]), ActorBlueprint(id=static.prop.bench01,tags=[bench01, prop, static]), ActorBlueprint(id=walker.pedestrian.0032,tags=[0032, pedestrian, walker]), ActorBlueprint(id=walker.pedestrian.0010,tags=[0010, pedestrian, walker]), ActorBlueprint(id=sensor.camera.rgb,tags=[rgb, camera, sensor]), ActorBlueprint(id=static.prop.wateringcan,tags=[wateringcan, prop, static]), ActorBlueprint(id=sensor.other.rss,tags=[rss, other, sensor]), ActorBlueprint(id=static.prop.pergola,tags=[pergola, prop, static]), ActorBlueprint(id=sensor.lidar.ray_cast_semantic,tags=[ray_cast_semantic, lidar, sensor]), ActorBlueprint(id=sensor.camera.optical_flow,tags=[optical_flow, camera, sensor]), ActorBlueprint(id=static.prop.briefcase,tags=[briefcase, prop, static]), ActorBlueprint(id=walker.pedestrian.0018,tags=[0018, pedestrian, walker]), ActorBlueprint(id=sensor.other.radar,tags=[radar, other, sensor]), ActorBlueprint(id=sensor.other.obstacle,tags=[obstacle, other, sensor]), ActorBlueprint(id=static.prop.slide,tags=[slide, prop, static]), ActorBlueprint(id=static.prop.brokentile04,tags=[brokentile04, prop, static]), ActorBlueprint(id=sensor.other.lane_invasion,tags=[lane_invasion, other, sensor]), ActorBlueprint(id=static.prop.trashcan04,tags=[trashcan04, prop, static]), ActorBlueprint(id=static.prop.trashcan02,tags=[trashcan02, prop, static]), ActorBlueprint(id=sensor.other.imu,tags=[other, imu, sensor]), ActorBlueprint(id=static.prop.plantpot06,tags=[prop, plantpot06, static]), ActorBlueprint(id=static.prop.glasscontainer,tags=[glasscontainer, prop, static]), ActorBlueprint(id=static.prop.chainbarrier,tags=[prop, chainbarrier, static]), ActorBlueprint(id=sensor.camera.dvs,tags=[dvs, camera, sensor]), ActorBlueprint(id=static.prop.trampoline,tags=[trampoline, prop, static]), ActorBlueprint(id=sensor.camera.depth,tags=[depth, camera, sensor]), ActorBlueprint(id=static.prop.trashcan05,tags=[trashcan05, prop, static]), ActorBlueprint(id=sensor.other.collision,tags=[collision, other, sensor]), ActorBlueprint(id=vehicle.volkswagen.t2_2021,tags=[t2_2021, volkswagen, vehicle]), ActorBlueprint(id=walker.pedestrian.0008,tags=[0008, pedestrian, walker]), ActorBlueprint(id=vehicle.ford.crown,tags=[crown, ford, vehicle]), ActorBlueprint(id=static.prop.calibrator,tags=[calibrator, prop, static]), ActorBlueprint(id=static.prop.mobile,tags=[prop, mobile, static]), ActorBlueprint(id=vehicle.mercedes.sprinter,tags=[sprinter, mercedes, vehicle]), ActorBlueprint(id=vehicle.nissan.patrol_2021,tags=[nissan, patrol_2021, vehicle]), ActorBlueprint(id=vehicle.mini.cooper_s_2021,tags=[mini, cooper_s_2021, vehicle]), ActorBlueprint(id=vehicle.vespa.zx125,tags=[zx125, vespa, vehicle]), ActorBlueprint(id=vehicle.carlamotors.firetruck,tags=[carlamotors, firetruck, vehicle]), ActorBlueprint(id=walker.pedestrian.0013,tags=[0013, pedestrian, walker]), ActorBlueprint(id=vehicle.ford.ambulance,tags=[ambulance, ford, vehicle]), ActorBlueprint(id=walker.pedestrian.0015,tags=[0015, pedestrian, walker]), ActorBlueprint(id=vehicle.dodge.charger_police_2020,tags=[charger_police_2020, dodge, vehicle]), ActorBlueprint(id=walker.pedestrian.0029,tags=[0029, pedestrian, walker]), ActorBlueprint(id=vehicle.dodge.charger_2020,tags=[charger_2020, dodge, vehicle]), ActorBlueprint(id=vehicle.mercedes.coupe_2020,tags=[coupe_2020, mercedes, vehicle]), ActorBlueprint(id=vehicle.lincoln.mkz_2020,tags=[mkz_2020, lincoln, vehicle]), ActorBlueprint(id=static.prop.garbage03,tags=[garbage03, prop, static]), ActorBlueprint(id=static.prop.barbeque,tags=[barbeque, prop, static]), ActorBlueprint(id=static.prop.atm,tags=[prop, atm, static]), ActorBlueprint(id=walker.pedestrian.0026,tags=[pedestrian, 0026, walker]), ActorBlueprint(id=vehicle.ford.mustang,tags=[mustang, ford, vehicle]), ActorBlueprint(id=vehicle.lincoln.mkz_2017,tags=[mkz_2017, lincoln, vehicle]), ActorBlueprint(id=vehicle.volkswagen.t2,tags=[volkswagen, t2, vehicle]), ActorBlueprint(id=vehicle.tesla.model3,tags=[tesla, model3, vehicle]), ActorBlueprint(id=static.trigger.friction,tags=[friction, trigger, static]), ActorBlueprint(id=sensor.lidar.ray_cast,tags=[ray_cast, lidar, sensor]), ActorBlueprint(id=vehicle.tesla.cybertruck,tags=[cybertruck, tesla, vehicle]), ActorBlueprint(id=vehicle.audi.etron,tags=[etron, audi, vehicle]), ActorBlueprint(id=static.prop.swingcouch,tags=[swingcouch, prop, static]), ActorBlueprint(id=walker.pedestrian.0002,tags=[0002, pedestrian, walker]), ActorBlueprint(id=vehicle.diamondback.century,tags=[century, diamondback, vehicle]), ActorBlueprint(id=sensor.other.gnss,tags=[gnss, other, sensor]), ActorBlueprint(id=vehicle.gazelle.omafiets,tags=[omafiets, gazelle, vehicle]), ActorBlueprint(id=vehicle.bh.crossbike,tags=[crossbike, bh, vehicle]), ActorBlueprint(id=static.prop.brokentile03,tags=[brokentile03, prop, static]), ActorBlueprint(id=vehicle.kawasaki.ninja,tags=[ninja, kawasaki, vehicle]), ActorBlueprint(id=vehicle.yamaha.yzf,tags=[yzf, yamaha, vehicle]), ActorBlueprint(id=vehicle.harley-davidson.low_rider,tags=[low_rider, harley-davidson, vehicle]), ActorBlueprint(id=vehicle.toyota.prius,tags=[prius, toyota, vehicle]), ActorBlueprint(id=vehicle.seat.leon,tags=[leon, seat, vehicle]), ActorBlueprint(id=vehicle.nissan.patrol,tags=[patrol, nissan, vehicle]), ActorBlueprint(id=vehicle.nissan.micra,tags=[micra, nissan, vehicle]), ActorBlueprint(id=vehicle.mini.cooper_s,tags=[cooper_s, mini, vehicle]), ActorBlueprint(id=static.prop.dirtdebris02,tags=[dirtdebris02, prop, static]), ActorBlueprint(id=vehicle.mercedes.coupe,tags=[coupe, mercedes, vehicle]), ActorBlueprint(id=walker.pedestrian.0027,tags=[0027, pedestrian, walker]), ActorBlueprint(id=vehicle.jeep.wrangler_rubicon,tags=[wrangler_rubicon, jeep, vehicle]), ActorBlueprint(id=static.prop.bin,tags=[bin, prop, static]), ActorBlueprint(id=vehicle.dodge.charger_police,tags=[charger_police, dodge, vehicle]), ActorBlueprint(id=vehicle.citroen.c3,tags=[c3, citroen, vehicle]), ActorBlueprint(id=vehicle.chevrolet.impala,tags=[impala, chevrolet, vehicle]), ActorBlueprint(id=walker.pedestrian.0025,tags=[0025, pedestrian, walker]), ActorBlueprint(id=vehicle.carlamotors.carlacola,tags=[carlacola, carlamotors, vehicle]), ActorBlueprint(id=static.prop.mailbox,tags=[mailbox, prop, static]), ActorBlueprint(id=vehicle.micro.microlino,tags=[microlino, micro, vehicle]), ActorBlueprint(id=walker.pedestrian.0017,tags=[0017, pedestrian, walker]), ActorBlueprint(id=walker.pedestrian.0012,tags=[0012, pedestrian, walker]), ActorBlueprint(id=vehicle.bmw.grandtourer,tags=[grandtourer, bmw, vehicle]), ActorBlueprint(id=vehicle.audi.tt,tags=[tt, audi, vehicle]), ActorBlueprint(id=vehicle.audi.a2,tags=[a2, audi, vehicle])]\n"
     ]
    }
   ],
   "source": [
    "blueprint_library = world.get_blueprint_library()\n",
    "print(blueprint_library)"
   ]
  },
  {
   "cell_type": "code",
   "execution_count": 8,
   "id": "df9c2db0",
   "metadata": {},
   "outputs": [
    {
     "name": "stdout",
     "output_type": "stream",
     "text": [
      "ActorBlueprint(id=sensor.other.collision,tags=[collision, other, sensor])\n"
     ]
    }
   ],
   "source": [
    "# Find a specific blueprint.\n",
    "collision_sensor_bp = blueprint_library.find('sensor.other.collision')\n",
    "print(collision_sensor_bp)"
   ]
  },
  {
   "cell_type": "code",
   "execution_count": 26,
   "id": "1bd41f76",
   "metadata": {},
   "outputs": [
    {
     "name": "stdout",
     "output_type": "stream",
     "text": [
      "ActorBlueprint(id=vehicle.audi.a2,tags=[a2, audi, vehicle])\n",
      "ActorBlueprint(id=vehicle.bh.crossbike,tags=[crossbike, bh, vehicle])\n",
      "ActorBlueprint(id=walker.pedestrian.0027,tags=[0027, pedestrian, walker])\n"
     ]
    }
   ],
   "source": [
    "# Choose a vehicle blueprint at random.\n",
    "vehicle_bp = random.choice(blueprint_library.filter('vehicle.*.*'))\n",
    "print(vehicle_bp)\n",
    "vehicle = random.choice(blueprint_library.filter('vehicle.bh.*'))\n",
    "print(vehicle)\n",
    "walker027 = blueprint_library.find('walker.pedestrian.0027')\n",
    "print(walker027)"
   ]
  },
  {
   "cell_type": "code",
   "execution_count": 25,
   "id": "5ff34def",
   "metadata": {},
   "outputs": [
    {
     "ename": "RuntimeError",
     "evalue": "number_of_wheels: bad attribute cast: cannot convert to Float",
     "output_type": "error",
     "traceback": [
      "\u001b[0;31m---------------------------------------------------------------------------\u001b[0m",
      "\u001b[0;31mRuntimeError\u001b[0m                              Traceback (most recent call last)",
      "\u001b[0;32m/tmp/ipykernel_80107/1818102135.py\u001b[0m in \u001b[0;36m<module>\u001b[0;34m\u001b[0m\n\u001b[0;32m----> 1\u001b[0;31m \u001b[0mprint\u001b[0m\u001b[0;34m(\u001b[0m\u001b[0mvehicle\u001b[0m\u001b[0;34m.\u001b[0m\u001b[0mget_attribute\u001b[0m\u001b[0;34m(\u001b[0m\u001b[0;34m'number_of_wheels'\u001b[0m\u001b[0;34m)\u001b[0m \u001b[0;34m==\u001b[0m \u001b[0;36m2\u001b[0m\u001b[0;34m)\u001b[0m\u001b[0;34m\u001b[0m\u001b[0;34m\u001b[0m\u001b[0m\n\u001b[0m\u001b[1;32m      2\u001b[0m \u001b[0mis_bike\u001b[0m \u001b[0;34m=\u001b[0m \u001b[0;34m[\u001b[0m\u001b[0mvehicle\u001b[0m\u001b[0;34m.\u001b[0m\u001b[0mget_attribute\u001b[0m\u001b[0;34m(\u001b[0m\u001b[0;34m'number_of_wheels'\u001b[0m\u001b[0;34m)\u001b[0m \u001b[0;34m==\u001b[0m \u001b[0;36m2\u001b[0m\u001b[0;34m]\u001b[0m\u001b[0;34m\u001b[0m\u001b[0;34m\u001b[0m\u001b[0m\n\u001b[1;32m      3\u001b[0m \u001b[0mprint\u001b[0m\u001b[0;34m(\u001b[0m\u001b[0mis_bike\u001b[0m\u001b[0;34m)\u001b[0m\u001b[0;34m\u001b[0m\u001b[0;34m\u001b[0m\u001b[0m\n\u001b[1;32m      4\u001b[0m \u001b[0;32mif\u001b[0m\u001b[0;34m(\u001b[0m\u001b[0mis_bike\u001b[0m\u001b[0;34m)\u001b[0m\u001b[0;34m:\u001b[0m\u001b[0;34m\u001b[0m\u001b[0;34m\u001b[0m\u001b[0m\n\u001b[1;32m      5\u001b[0m     \u001b[0mvehicle\u001b[0m\u001b[0;34m.\u001b[0m\u001b[0mset_attribute\u001b[0m\u001b[0;34m(\u001b[0m\u001b[0;34m'color'\u001b[0m\u001b[0;34m,\u001b[0m \u001b[0;34m'255,0,0'\u001b[0m\u001b[0;34m)\u001b[0m\u001b[0;34m\u001b[0m\u001b[0;34m\u001b[0m\u001b[0m\n",
      "\u001b[0;31mRuntimeError\u001b[0m: number_of_wheels: bad attribute cast: cannot convert to Float"
     ]
    }
   ],
   "source": [
    "print(vehicle.get_attribute('number_of_wheels') == 2)\n",
    "is_bike = [vehicle.get_attribute('number_of_wheels') == 2]\n",
    "print(is_bike)\n",
    "if(is_bike):\n",
    "    vehicle.set_attribute('color', '255,0,0')"
   ]
  },
  {
   "cell_type": "code",
   "execution_count": 27,
   "id": "45b7f2d4",
   "metadata": {},
   "outputs": [
    {
     "ename": "NameError",
     "evalue": "name 'Transform' is not defined",
     "output_type": "error",
     "traceback": [
      "\u001b[0;31m---------------------------------------------------------------------------\u001b[0m",
      "\u001b[0;31mNameError\u001b[0m                                 Traceback (most recent call last)",
      "\u001b[0;32m/tmp/ipykernel_80107/3651910113.py\u001b[0m in \u001b[0;36m<module>\u001b[0;34m\u001b[0m\n\u001b[0;32m----> 1\u001b[0;31m \u001b[0mtransform\u001b[0m \u001b[0;34m=\u001b[0m \u001b[0mTransform\u001b[0m\u001b[0;34m(\u001b[0m\u001b[0mLocation\u001b[0m\u001b[0;34m(\u001b[0m\u001b[0mx\u001b[0m\u001b[0;34m=\u001b[0m\u001b[0;36m230\u001b[0m\u001b[0;34m,\u001b[0m \u001b[0my\u001b[0m\u001b[0;34m=\u001b[0m\u001b[0;36m195\u001b[0m\u001b[0;34m,\u001b[0m \u001b[0mz\u001b[0m\u001b[0;34m=\u001b[0m\u001b[0;36m40\u001b[0m\u001b[0;34m)\u001b[0m\u001b[0;34m,\u001b[0m \u001b[0mRotation\u001b[0m\u001b[0;34m(\u001b[0m\u001b[0myaw\u001b[0m\u001b[0;34m=\u001b[0m\u001b[0;36m180\u001b[0m\u001b[0;34m)\u001b[0m\u001b[0;34m)\u001b[0m\u001b[0;34m\u001b[0m\u001b[0;34m\u001b[0m\u001b[0m\n\u001b[0m",
      "\u001b[0;31mNameError\u001b[0m: name 'Transform' is not defined"
     ]
    }
   ],
   "source": [
    "transform = Transform(Location(x=230, y=195, z=40), Rotation(yaw=180))"
   ]
  },
  {
   "cell_type": "code",
   "execution_count": 28,
   "id": "2aa6fbc1",
   "metadata": {},
   "outputs": [
    {
     "ename": "NameError",
     "evalue": "name 'blueprint' is not defined",
     "output_type": "error",
     "traceback": [
      "\u001b[0;31m---------------------------------------------------------------------------\u001b[0m",
      "\u001b[0;31mNameError\u001b[0m                                 Traceback (most recent call last)",
      "\u001b[0;32m/tmp/ipykernel_80107/318770492.py\u001b[0m in \u001b[0;36m<module>\u001b[0;34m\u001b[0m\n\u001b[0;32m----> 1\u001b[0;31m \u001b[0mactor\u001b[0m \u001b[0;34m=\u001b[0m \u001b[0mworld\u001b[0m\u001b[0;34m.\u001b[0m\u001b[0mspawn_actor\u001b[0m\u001b[0;34m(\u001b[0m\u001b[0mblueprint\u001b[0m\u001b[0;34m,\u001b[0m \u001b[0mtransform\u001b[0m\u001b[0;34m)\u001b[0m\u001b[0;34m\u001b[0m\u001b[0;34m\u001b[0m\u001b[0m\n\u001b[0m",
      "\u001b[0;31mNameError\u001b[0m: name 'blueprint' is not defined"
     ]
    }
   ],
   "source": [
    "actor = world.spawn_actor(blueprint, transform)"
   ]
  },
  {
   "cell_type": "markdown",
   "id": "ba20d0da",
   "metadata": {},
   "source": [
    "CARLA uses the Unreal Engine coordinates system. Remember that carla.Rotation constructor is defined as (pitch, yaw, roll), that differs from Unreal Engine Editor (roll, pitch, yaw)."
   ]
  },
  {
   "cell_type": "code",
   "execution_count": 32,
   "id": "164d2fe5",
   "metadata": {},
   "outputs": [
    {
     "name": "stdout",
     "output_type": "stream",
     "text": [
      "[<carla.libcarla.Transform object at 0x7f9aa014f690>, <carla.libcarla.Transform object at 0x7f9aa014f5d0>, <carla.libcarla.Transform object at 0x7f9aa014f7b0>, <carla.libcarla.Transform object at 0x7f9aa014f810>, <carla.libcarla.Transform object at 0x7f9aa014f870>, <carla.libcarla.Transform object at 0x7f9aa014f8d0>, <carla.libcarla.Transform object at 0x7f9aa014f930>, <carla.libcarla.Transform object at 0x7f9aa014f990>, <carla.libcarla.Transform object at 0x7f9aa014f9f0>, <carla.libcarla.Transform object at 0x7f9aa014fa50>, <carla.libcarla.Transform object at 0x7f9aa014fab0>, <carla.libcarla.Transform object at 0x7f9aa014fb10>, <carla.libcarla.Transform object at 0x7f9aa014fb70>, <carla.libcarla.Transform object at 0x7f9aa014fbd0>, <carla.libcarla.Transform object at 0x7f9aa014fc30>, <carla.libcarla.Transform object at 0x7f9aa014fc90>, <carla.libcarla.Transform object at 0x7f9aa014fcf0>, <carla.libcarla.Transform object at 0x7f9aa014fd50>, <carla.libcarla.Transform object at 0x7f9aa014fdb0>, <carla.libcarla.Transform object at 0x7f9aa014fe10>, <carla.libcarla.Transform object at 0x7f9aa014fe70>, <carla.libcarla.Transform object at 0x7f9aa014fed0>, <carla.libcarla.Transform object at 0x7f9aa014ff30>, <carla.libcarla.Transform object at 0x7f9aa014ff90>, <carla.libcarla.Transform object at 0x7f9aa0150030>, <carla.libcarla.Transform object at 0x7f9aa0150090>, <carla.libcarla.Transform object at 0x7f9aa01500f0>, <carla.libcarla.Transform object at 0x7f9aa0150150>, <carla.libcarla.Transform object at 0x7f9aa01501b0>, <carla.libcarla.Transform object at 0x7f9aa0150210>, <carla.libcarla.Transform object at 0x7f9aa0150270>, <carla.libcarla.Transform object at 0x7f9aa01502d0>, <carla.libcarla.Transform object at 0x7f9aa0150330>, <carla.libcarla.Transform object at 0x7f9aa0150390>, <carla.libcarla.Transform object at 0x7f9aa01503f0>, <carla.libcarla.Transform object at 0x7f9aa0150450>, <carla.libcarla.Transform object at 0x7f9aa01504b0>, <carla.libcarla.Transform object at 0x7f9aa0150510>, <carla.libcarla.Transform object at 0x7f9aa0150570>, <carla.libcarla.Transform object at 0x7f9aa01505d0>, <carla.libcarla.Transform object at 0x7f9aa0150630>, <carla.libcarla.Transform object at 0x7f9aa0150690>, <carla.libcarla.Transform object at 0x7f9aa01506f0>, <carla.libcarla.Transform object at 0x7f9aa0150750>, <carla.libcarla.Transform object at 0x7f9aa01507b0>, <carla.libcarla.Transform object at 0x7f9aa0150810>, <carla.libcarla.Transform object at 0x7f9aa0150870>, <carla.libcarla.Transform object at 0x7f9aa01508d0>, <carla.libcarla.Transform object at 0x7f9aa0150930>, <carla.libcarla.Transform object at 0x7f9aa0150990>, <carla.libcarla.Transform object at 0x7f9aa01509f0>, <carla.libcarla.Transform object at 0x7f9aa0150a50>, <carla.libcarla.Transform object at 0x7f9aa0150ab0>, <carla.libcarla.Transform object at 0x7f9aa0150b10>, <carla.libcarla.Transform object at 0x7f9aa0150b70>, <carla.libcarla.Transform object at 0x7f9aa0150bd0>, <carla.libcarla.Transform object at 0x7f9aa0150c30>, <carla.libcarla.Transform object at 0x7f9aa0150c90>, <carla.libcarla.Transform object at 0x7f9aa0150cf0>, <carla.libcarla.Transform object at 0x7f9aa0150d50>, <carla.libcarla.Transform object at 0x7f9aa0150db0>, <carla.libcarla.Transform object at 0x7f9aa0150e10>, <carla.libcarla.Transform object at 0x7f9aa0150e70>, <carla.libcarla.Transform object at 0x7f9aa0150ed0>, <carla.libcarla.Transform object at 0x7f9aa0150f30>, <carla.libcarla.Transform object at 0x7f9aa0150f90>, <carla.libcarla.Transform object at 0x7f9aa0151030>, <carla.libcarla.Transform object at 0x7f9aa0151090>, <carla.libcarla.Transform object at 0x7f9aa01510f0>, <carla.libcarla.Transform object at 0x7f9aa0151150>, <carla.libcarla.Transform object at 0x7f9aa01511b0>, <carla.libcarla.Transform object at 0x7f9aa0151210>, <carla.libcarla.Transform object at 0x7f9aa0151270>, <carla.libcarla.Transform object at 0x7f9aa01512d0>, <carla.libcarla.Transform object at 0x7f9aa0151330>, <carla.libcarla.Transform object at 0x7f9aa0151390>, <carla.libcarla.Transform object at 0x7f9aa01513f0>, <carla.libcarla.Transform object at 0x7f9aa0151450>, <carla.libcarla.Transform object at 0x7f9aa01514b0>, <carla.libcarla.Transform object at 0x7f9aa0151510>, <carla.libcarla.Transform object at 0x7f9aa0151570>, <carla.libcarla.Transform object at 0x7f9aa01515d0>, <carla.libcarla.Transform object at 0x7f9aa0151630>, <carla.libcarla.Transform object at 0x7f9aa0151690>, <carla.libcarla.Transform object at 0x7f9aa01516f0>, <carla.libcarla.Transform object at 0x7f9aa0151750>, <carla.libcarla.Transform object at 0x7f9aa01517b0>, <carla.libcarla.Transform object at 0x7f9aa0151810>, <carla.libcarla.Transform object at 0x7f9aa0151870>, <carla.libcarla.Transform object at 0x7f9aa01518d0>, <carla.libcarla.Transform object at 0x7f9aa0151930>, <carla.libcarla.Transform object at 0x7f9aa0151990>, <carla.libcarla.Transform object at 0x7f9aa01519f0>, <carla.libcarla.Transform object at 0x7f9aa0151a50>, <carla.libcarla.Transform object at 0x7f9aa0151ab0>, <carla.libcarla.Transform object at 0x7f9aa0151b10>, <carla.libcarla.Transform object at 0x7f9aa0151b70>, <carla.libcarla.Transform object at 0x7f9aa0151bd0>, <carla.libcarla.Transform object at 0x7f9aa0151c30>, <carla.libcarla.Transform object at 0x7f9aa0151c90>, <carla.libcarla.Transform object at 0x7f9aa0151cf0>, <carla.libcarla.Transform object at 0x7f9aa0151d50>, <carla.libcarla.Transform object at 0x7f9aa0151db0>, <carla.libcarla.Transform object at 0x7f9aa0151e10>, <carla.libcarla.Transform object at 0x7f9aa0151e70>, <carla.libcarla.Transform object at 0x7f9aa0151ed0>, <carla.libcarla.Transform object at 0x7f9aa0151f30>, <carla.libcarla.Transform object at 0x7f9aa0151f90>, <carla.libcarla.Transform object at 0x7f9aa0152030>, <carla.libcarla.Transform object at 0x7f9aa0152090>, <carla.libcarla.Transform object at 0x7f9aa01520f0>, <carla.libcarla.Transform object at 0x7f9aa0152150>, <carla.libcarla.Transform object at 0x7f9aa01521b0>, <carla.libcarla.Transform object at 0x7f9aa0152210>, <carla.libcarla.Transform object at 0x7f9aa0152270>, <carla.libcarla.Transform object at 0x7f9aa01522d0>, <carla.libcarla.Transform object at 0x7f9aa0152330>, <carla.libcarla.Transform object at 0x7f9aa0152390>, <carla.libcarla.Transform object at 0x7f9aa01523f0>, <carla.libcarla.Transform object at 0x7f9aa0152450>, <carla.libcarla.Transform object at 0x7f9aa01524b0>, <carla.libcarla.Transform object at 0x7f9aa0152510>, <carla.libcarla.Transform object at 0x7f9aa0152570>, <carla.libcarla.Transform object at 0x7f9aa01525d0>, <carla.libcarla.Transform object at 0x7f9aa0152630>, <carla.libcarla.Transform object at 0x7f9aa0152690>, <carla.libcarla.Transform object at 0x7f9aa01526f0>, <carla.libcarla.Transform object at 0x7f9aa0152750>, <carla.libcarla.Transform object at 0x7f9aa01527b0>, <carla.libcarla.Transform object at 0x7f9aa0152810>, <carla.libcarla.Transform object at 0x7f9aa0152870>, <carla.libcarla.Transform object at 0x7f9aa01528d0>, <carla.libcarla.Transform object at 0x7f9aa0152930>, <carla.libcarla.Transform object at 0x7f9aa0152990>, <carla.libcarla.Transform object at 0x7f9aa01529f0>, <carla.libcarla.Transform object at 0x7f9aa0152a50>, <carla.libcarla.Transform object at 0x7f9aa0152ab0>, <carla.libcarla.Transform object at 0x7f9aa0152b10>, <carla.libcarla.Transform object at 0x7f9aa0152b70>, <carla.libcarla.Transform object at 0x7f9aa0152bd0>, <carla.libcarla.Transform object at 0x7f9aa0152c30>, <carla.libcarla.Transform object at 0x7f9aa0152c90>, <carla.libcarla.Transform object at 0x7f9aa0152cf0>, <carla.libcarla.Transform object at 0x7f9aa0152d50>, <carla.libcarla.Transform object at 0x7f9aa0152db0>, <carla.libcarla.Transform object at 0x7f9aa0152e10>, <carla.libcarla.Transform object at 0x7f9aa0152e70>, <carla.libcarla.Transform object at 0x7f9aa0152ed0>, <carla.libcarla.Transform object at 0x7f9aa0152f30>, <carla.libcarla.Transform object at 0x7f9aa0152f90>, <carla.libcarla.Transform object at 0x7f9aa0153030>, <carla.libcarla.Transform object at 0x7f9aa0153090>, <carla.libcarla.Transform object at 0x7f9aa01530f0>, <carla.libcarla.Transform object at 0x7f9aa0153150>, <carla.libcarla.Transform object at 0x7f9aa01531b0>, <carla.libcarla.Transform object at 0x7f9aa0153210>, <carla.libcarla.Transform object at 0x7f9aa0153270>, <carla.libcarla.Transform object at 0x7f9aa01532d0>, <carla.libcarla.Transform object at 0x7f9aa0153330>, <carla.libcarla.Transform object at 0x7f9aa0153390>, <carla.libcarla.Transform object at 0x7f9aa01533f0>, <carla.libcarla.Transform object at 0x7f9aa0153450>, <carla.libcarla.Transform object at 0x7f9aa01534b0>, <carla.libcarla.Transform object at 0x7f9aa0153510>, <carla.libcarla.Transform object at 0x7f9aa0153570>, <carla.libcarla.Transform object at 0x7f9aa01535d0>, <carla.libcarla.Transform object at 0x7f9aa0153630>, <carla.libcarla.Transform object at 0x7f9aa0153690>, <carla.libcarla.Transform object at 0x7f9aa01536f0>, <carla.libcarla.Transform object at 0x7f9aa0153750>, <carla.libcarla.Transform object at 0x7f9aa01537b0>, <carla.libcarla.Transform object at 0x7f9aa0153810>, <carla.libcarla.Transform object at 0x7f9aa0153870>, <carla.libcarla.Transform object at 0x7f9aa01538d0>, <carla.libcarla.Transform object at 0x7f9aa0153930>, <carla.libcarla.Transform object at 0x7f9aa0153990>, <carla.libcarla.Transform object at 0x7f9aa01539f0>, <carla.libcarla.Transform object at 0x7f9aa0153a50>, <carla.libcarla.Transform object at 0x7f9aa0153ab0>, <carla.libcarla.Transform object at 0x7f9aa0153b10>, <carla.libcarla.Transform object at 0x7f9aa0153b70>, <carla.libcarla.Transform object at 0x7f9aa0153bd0>, <carla.libcarla.Transform object at 0x7f9aa0153c30>, <carla.libcarla.Transform object at 0x7f9aa0153c90>, <carla.libcarla.Transform object at 0x7f9aa0153cf0>, <carla.libcarla.Transform object at 0x7f9aa0153d50>, <carla.libcarla.Transform object at 0x7f9aa0153db0>, <carla.libcarla.Transform object at 0x7f9aa0153e10>, <carla.libcarla.Transform object at 0x7f9aa0153e70>, <carla.libcarla.Transform object at 0x7f9aa0153ed0>, <carla.libcarla.Transform object at 0x7f9aa0153f30>, <carla.libcarla.Transform object at 0x7f9aa0153f90>, <carla.libcarla.Transform object at 0x7f9aa0154030>, <carla.libcarla.Transform object at 0x7f9aa0154090>, <carla.libcarla.Transform object at 0x7f9aa01540f0>, <carla.libcarla.Transform object at 0x7f9aa0154150>, <carla.libcarla.Transform object at 0x7f9aa01541b0>, <carla.libcarla.Transform object at 0x7f9aa0154210>, <carla.libcarla.Transform object at 0x7f9aa0154270>, <carla.libcarla.Transform object at 0x7f9aa01542d0>, <carla.libcarla.Transform object at 0x7f9aa0154330>, <carla.libcarla.Transform object at 0x7f9aa0154390>, <carla.libcarla.Transform object at 0x7f9aa01543f0>, <carla.libcarla.Transform object at 0x7f9aa0154450>, <carla.libcarla.Transform object at 0x7f9aa01544b0>, <carla.libcarla.Transform object at 0x7f9aa0154510>, <carla.libcarla.Transform object at 0x7f9aa0154570>, <carla.libcarla.Transform object at 0x7f9aa01545d0>, <carla.libcarla.Transform object at 0x7f9aa0154630>, <carla.libcarla.Transform object at 0x7f9aa0154690>, <carla.libcarla.Transform object at 0x7f9aa01546f0>, <carla.libcarla.Transform object at 0x7f9aa0154750>, <carla.libcarla.Transform object at 0x7f9aa01547b0>, <carla.libcarla.Transform object at 0x7f9aa0154810>, <carla.libcarla.Transform object at 0x7f9aa0154870>, <carla.libcarla.Transform object at 0x7f9aa01548d0>, <carla.libcarla.Transform object at 0x7f9aa0154930>, <carla.libcarla.Transform object at 0x7f9aa0154990>, <carla.libcarla.Transform object at 0x7f9aa01549f0>, <carla.libcarla.Transform object at 0x7f9aa0154a50>, <carla.libcarla.Transform object at 0x7f9aa0154ab0>, <carla.libcarla.Transform object at 0x7f9aa0154b10>, <carla.libcarla.Transform object at 0x7f9aa0154b70>, <carla.libcarla.Transform object at 0x7f9aa0154bd0>, <carla.libcarla.Transform object at 0x7f9aa0154c30>, <carla.libcarla.Transform object at 0x7f9aa0154c90>, <carla.libcarla.Transform object at 0x7f9aa0154cf0>, <carla.libcarla.Transform object at 0x7f9aa0154d50>, <carla.libcarla.Transform object at 0x7f9aa0154db0>, <carla.libcarla.Transform object at 0x7f9aa0154e10>, <carla.libcarla.Transform object at 0x7f9aa0154e70>, <carla.libcarla.Transform object at 0x7f9aa0154ed0>, <carla.libcarla.Transform object at 0x7f9aa0154f30>, <carla.libcarla.Transform object at 0x7f9aa0154f90>, <carla.libcarla.Transform object at 0x7f9aa0155030>, <carla.libcarla.Transform object at 0x7f9aa0155090>, <carla.libcarla.Transform object at 0x7f9aa01550f0>, <carla.libcarla.Transform object at 0x7f9aa0155150>, <carla.libcarla.Transform object at 0x7f9aa01551b0>, <carla.libcarla.Transform object at 0x7f9aa0155210>, <carla.libcarla.Transform object at 0x7f9aa0155270>, <carla.libcarla.Transform object at 0x7f9aa01552d0>, <carla.libcarla.Transform object at 0x7f9aa0155330>, <carla.libcarla.Transform object at 0x7f9aa0155390>, <carla.libcarla.Transform object at 0x7f9aa01553f0>, <carla.libcarla.Transform object at 0x7f9aa0155450>, <carla.libcarla.Transform object at 0x7f9aa01554b0>, <carla.libcarla.Transform object at 0x7f9aa0155510>, <carla.libcarla.Transform object at 0x7f9aa0155570>, <carla.libcarla.Transform object at 0x7f9aa01555d0>, <carla.libcarla.Transform object at 0x7f9aa0155630>, <carla.libcarla.Transform object at 0x7f9aa0155690>, <carla.libcarla.Transform object at 0x7f9aa01556f0>, <carla.libcarla.Transform object at 0x7f9aa0155750>, <carla.libcarla.Transform object at 0x7f9aa01557b0>, <carla.libcarla.Transform object at 0x7f9aa0155810>, <carla.libcarla.Transform object at 0x7f9aa0155870>, <carla.libcarla.Transform object at 0x7f9aa01558d0>, <carla.libcarla.Transform object at 0x7f9aa0155930>, <carla.libcarla.Transform object at 0x7f9aa0155990>, <carla.libcarla.Transform object at 0x7f9aa01559f0>, <carla.libcarla.Transform object at 0x7f9aa0155a50>, <carla.libcarla.Transform object at 0x7f9aa0155ab0>, <carla.libcarla.Transform object at 0x7f9aa0155b10>, <carla.libcarla.Transform object at 0x7f9aa0155b70>]\n"
     ]
    }
   ],
   "source": [
    "spawn_points = world.get_map().get_spawn_points()\n",
    "print(spawn_points)"
   ]
  },
  {
   "cell_type": "code",
   "execution_count": 34,
   "id": "49ecd18a",
   "metadata": {},
   "outputs": [
    {
     "name": "stdout",
     "output_type": "stream",
     "text": [
      "Transform(Location(x=-156.870209, y=-76.173203, z=0.590958), Rotation(pitch=0.000000, yaw=0.000000, roll=0.000000))\n",
      "Location(x=-156.870209, y=-76.173203, z=0.590958)\n"
     ]
    }
   ],
   "source": [
    "spawn_point = carla.Transform()\n",
    "spawn_point.location = world.get_random_location_from_navigation()\n",
    "print(spawn_point)\n",
    "print(spawn_point.location)"
   ]
  },
  {
   "cell_type": "code",
   "execution_count": 35,
   "id": "9bc69356",
   "metadata": {},
   "outputs": [
    {
     "ename": "SyntaxError",
     "evalue": "positional argument follows keyword argument (387176063.py, line 1)",
     "output_type": "error",
     "traceback": [
      "\u001b[0;36m  File \u001b[0;32m\"/tmp/ipykernel_80107/387176063.py\"\u001b[0;36m, line \u001b[0;32m1\u001b[0m\n\u001b[0;31m    camera = world.spawn_actor(camera_bp, relative_transform, attach_to=my_vehicle, carla.AttachmentType.Rigid)\u001b[0m\n\u001b[0m                                                                                   ^\u001b[0m\n\u001b[0;31mSyntaxError\u001b[0m\u001b[0;31m:\u001b[0m positional argument follows keyword argument\n"
     ]
    }
   ],
   "source": [
    "camera = world.spawn_actor(camera_bp, relative_transform, attach_to=my_vehicle, carla.AttachmentType.Rigid)"
   ]
  },
  {
   "cell_type": "code",
   "execution_count": 37,
   "id": "e1b27928",
   "metadata": {},
   "outputs": [
    {
     "name": "stdout",
     "output_type": "stream",
     "text": [
      "[Actor(id=397, type=traffic.traffic_light), Actor(id=396, type=traffic.traffic_light), Actor(id=395, type=traffic.speed_limit.30), Actor(id=394, type=traffic.speed_limit.30), Actor(id=393, type=traffic.speed_limit.30), Actor(id=392, type=traffic.speed_limit.30), Actor(id=391, type=traffic.speed_limit.30), Actor(id=390, type=traffic.traffic_light), Actor(id=389, type=traffic.traffic_light), Actor(id=388, type=traffic.traffic_light), Actor(id=387, type=traffic.traffic_light), Actor(id=386, type=traffic.traffic_light), Actor(id=385, type=traffic.traffic_light), Actor(id=384, type=traffic.traffic_light), Actor(id=383, type=traffic.traffic_light), Actor(id=382, type=traffic.traffic_light), Actor(id=381, type=traffic.traffic_light), Actor(id=380, type=traffic.traffic_light), Actor(id=379, type=traffic.traffic_light), Actor(id=378, type=traffic.traffic_light), Actor(id=377, type=traffic.traffic_light), Actor(id=376, type=traffic.traffic_light), Actor(id=375, type=traffic.traffic_light), Actor(id=374, type=traffic.traffic_light), Actor(id=373, type=traffic.traffic_light), Actor(id=372, type=traffic.traffic_light), Actor(id=371, type=traffic.traffic_light), Actor(id=370, type=traffic.traffic_light), Actor(id=369, type=traffic.traffic_light), Actor(id=368, type=traffic.traffic_light), Actor(id=367, type=traffic.traffic_light), Actor(id=366, type=traffic.traffic_light), Actor(id=365, type=traffic.traffic_light), Actor(id=364, type=traffic.traffic_light), Actor(id=363, type=traffic.traffic_light), Actor(id=362, type=traffic.traffic_light), Actor(id=361, type=traffic.traffic_light), Actor(id=360, type=traffic.traffic_light), Actor(id=359, type=traffic.traffic_light), Actor(id=358, type=traffic.traffic_light), Actor(id=357, type=traffic.traffic_light), Actor(id=356, type=traffic.traffic_light), Actor(id=355, type=traffic.traffic_light), Actor(id=354, type=traffic.speed_limit.30), Actor(id=353, type=traffic.speed_limit.30), Actor(id=352, type=traffic.speed_limit.90), Actor(id=351, type=traffic.speed_limit.90), Actor(id=350, type=traffic.speed_limit.60), Actor(id=349, type=traffic.speed_limit.60), Actor(id=348, type=traffic.stop), Actor(id=347, type=traffic.stop), Actor(id=346, type=traffic.stop), Actor(id=345, type=traffic.stop), Actor(id=344, type=traffic.stop), Actor(id=343, type=traffic.stop), Actor(id=342, type=traffic.stop), Actor(id=341, type=traffic.stop), Actor(id=340, type=traffic.stop), Actor(id=339, type=traffic.stop), Actor(id=338, type=traffic.stop), Actor(id=337, type=traffic.stop), Actor(id=336, type=traffic.stop), Actor(id=335, type=traffic.stop), Actor(id=334, type=traffic.stop), Actor(id=333, type=traffic.stop), Actor(id=332, type=traffic.stop), Actor(id=331, type=traffic.stop), Actor(id=330, type=traffic.stop), Actor(id=329, type=traffic.unknown), Actor(id=328, type=traffic.stop), Actor(id=327, type=traffic.unknown), Actor(id=326, type=traffic.unknown), Actor(id=325, type=traffic.unknown), Actor(id=324, type=traffic.unknown), Actor(id=323, type=traffic.unknown), Actor(id=322, type=traffic.unknown), Actor(id=321, type=traffic.unknown), Actor(id=320, type=traffic.unknown), Actor(id=319, type=traffic.unknown), Actor(id=318, type=traffic.unknown), Actor(id=317, type=traffic.unknown), Actor(id=316, type=traffic.unknown), Actor(id=315, type=traffic.unknown), Actor(id=314, type=traffic.unknown), Actor(id=313, type=spectator)]\n"
     ]
    }
   ],
   "source": [
    "actor_list = world.get_actors()\n",
    "print(actor_list)"
   ]
  },
  {
   "cell_type": "code",
   "execution_count": 38,
   "id": "d7de94c3",
   "metadata": {},
   "outputs": [
    {
     "ename": "ArgumentError",
     "evalue": "Python argument types in\n    ActorList.find(ActorList, builtin_function_or_method)\ndid not match C++ signature:\n    find(carla::client::ActorList {lvalue}, unsigned int id)",
     "output_type": "error",
     "traceback": [
      "\u001b[0;31m---------------------------------------------------------------------------\u001b[0m",
      "\u001b[0;31mArgumentError\u001b[0m                             Traceback (most recent call last)",
      "\u001b[0;32m/tmp/ipykernel_80107/770425616.py\u001b[0m in \u001b[0;36m<module>\u001b[0;34m\u001b[0m\n\u001b[0;32m----> 1\u001b[0;31m \u001b[0mactor\u001b[0m \u001b[0;34m=\u001b[0m \u001b[0mactor_list\u001b[0m\u001b[0;34m.\u001b[0m\u001b[0mfind\u001b[0m\u001b[0;34m(\u001b[0m\u001b[0mid\u001b[0m\u001b[0;34m)\u001b[0m\u001b[0;34m\u001b[0m\u001b[0;34m\u001b[0m\u001b[0m\n\u001b[0m",
      "\u001b[0;31mArgumentError\u001b[0m: Python argument types in\n    ActorList.find(ActorList, builtin_function_or_method)\ndid not match C++ signature:\n    find(carla::client::ActorList {lvalue}, unsigned int id)"
     ]
    }
   ],
   "source": [
    "# Find an actor by id.\n",
    "actor = actor_list.find(id)"
   ]
  },
  {
   "cell_type": "code",
   "execution_count": 39,
   "id": "151614de",
   "metadata": {},
   "outputs": [
    {
     "name": "stdout",
     "output_type": "stream",
     "text": [
      "Location(x=141.730560, y=-65.413078, z=7.986372)\n",
      "Location(x=71.224640, y=-67.036301, z=7.921471)\n",
      "Location(x=162.870285, y=-144.941574, z=8.147064)\n",
      "Location(x=94.258369, y=-146.386414, z=7.735237)\n",
      "Location(x=71.652374, y=-145.270218, z=7.632200)\n",
      "Location(x=43.386932, y=188.631561, z=0.226719)\n",
      "Location(x=247.936935, y=117.181549, z=0.526719)\n",
      "Location(x=224.599991, y=90.399078, z=0.102401)\n",
      "Location(x=-83.099991, y=191.399078, z=0.152401)\n",
      "Location(x=90.641014, y=188.483429, z=1.258194)\n",
      "Location(x=238.841003, y=170.333435, z=1.808194)\n"
     ]
    }
   ],
   "source": [
    "# Print the location of all the speed limit signs in the world.\n",
    "for speed_sign in actor_list.filter('traffic.speed_limit.*'):\n",
    "    print(speed_sign.get_location())"
   ]
  },
  {
   "cell_type": "code",
   "execution_count": null,
   "id": "1d19409b",
   "metadata": {},
   "outputs": [],
   "source": []
  }
 ],
 "metadata": {
  "kernelspec": {
   "display_name": "Python 3 (ipykernel)",
   "language": "python",
   "name": "python3"
  },
  "language_info": {
   "codemirror_mode": {
    "name": "ipython",
    "version": 3
   },
   "file_extension": ".py",
   "mimetype": "text/x-python",
   "name": "python",
   "nbconvert_exporter": "python",
   "pygments_lexer": "ipython3",
   "version": "3.7.13"
  }
 },
 "nbformat": 4,
 "nbformat_minor": 5
}
